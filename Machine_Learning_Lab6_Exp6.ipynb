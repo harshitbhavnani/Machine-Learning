{
  "nbformat": 4,
  "nbformat_minor": 0,
  "metadata": {
    "colab": {
      "name": "Machine Learning | Lab 6 | Exp 6",
      "provenance": [],
      "authorship_tag": "ABX9TyN43h60AkLCCvRQqtbKNpzD",
      "include_colab_link": true
    },
    "kernelspec": {
      "name": "python3",
      "display_name": "Python 3"
    }
  },
  "cells": [
    {
      "cell_type": "markdown",
      "metadata": {
        "id": "view-in-github",
        "colab_type": "text"
      },
      "source": [
        "<a href=\"https://colab.research.google.com/github/harshitbhavnani/Machine-Learning/blob/master/Machine_Learning_Lab6_Exp6.ipynb\" target=\"_parent\"><img src=\"https://colab.research.google.com/assets/colab-badge.svg\" alt=\"Open In Colab\"/></a>"
      ]
    },
    {
      "cell_type": "markdown",
      "metadata": {
        "id": "dR3hOOeWMPa3",
        "colab_type": "text"
      },
      "source": [
        "# **Name: Harshit Bhavnani**\n",
        "**Roll no: J076**\n",
        "\n",
        "**Experiment / Lab : 6**"
      ]
    },
    {
      "cell_type": "code",
      "metadata": {
        "id": "q70Ve5VuERta",
        "colab_type": "code",
        "colab": {
          "base_uri": "https://localhost:8080/",
          "height": 71
        },
        "outputId": "815668fa-723a-4576-cb6c-eb23d7ed1b8b"
      },
      "source": [
        "import numpy as np\n",
        "import pandas as pd\n",
        "\n",
        "import matplotlib.pyplot as plt\n",
        "import seaborn as sns\n",
        "\n",
        "from sklearn.model_selection import train_test_split, cross_val_score\n",
        "from sklearn.preprocessing import StandardScaler\n",
        "\n",
        "from sklearn import linear_model\n",
        "from sklearn.model_selection import GridSearchCV, RandomizedSearchCV"
      ],
      "execution_count": 1,
      "outputs": [
        {
          "output_type": "stream",
          "text": [
            "/usr/local/lib/python3.6/dist-packages/statsmodels/tools/_testing.py:19: FutureWarning: pandas.util.testing is deprecated. Use the functions in the public API at pandas.testing instead.\n",
            "  import pandas.util.testing as tm\n"
          ],
          "name": "stderr"
        }
      ]
    },
    {
      "cell_type": "code",
      "metadata": {
        "id": "P7ddrVllEgS-",
        "colab_type": "code",
        "colab": {
          "base_uri": "https://localhost:8080/",
          "height": 578
        },
        "outputId": "718768a5-c726-4a35-81b4-cd4990031ca1"
      },
      "source": [
        "!wget -O 2011gcn.csv https://raw.githubusercontent.com/pranavn91/blockchain/master/2011gcn.csv\n",
        "!wget -O tx2011partvertices_new.csv https://raw.githubusercontent.com/pranavn91/blockchain/master/tx2011partvertices_new.csv\n",
        "!wget -O tx2011partvertices.csv https://raw.githubusercontent.com/pranavn91/blockchain/master/tx2011partvertices.csv"
      ],
      "execution_count": 2,
      "outputs": [
        {
          "output_type": "stream",
          "text": [
            "--2020-08-30 20:32:29--  https://raw.githubusercontent.com/pranavn91/blockchain/master/2011gcn.csv\n",
            "Resolving raw.githubusercontent.com (raw.githubusercontent.com)... 151.101.0.133, 151.101.64.133, 151.101.128.133, ...\n",
            "Connecting to raw.githubusercontent.com (raw.githubusercontent.com)|151.101.0.133|:443... connected.\n",
            "HTTP request sent, awaiting response... 200 OK\n",
            "Length: 12563086 (12M) [text/plain]\n",
            "Saving to: ‘2011gcn.csv’\n",
            "\n",
            "2011gcn.csv         100%[===================>]  11.98M  60.4MB/s    in 0.2s    \n",
            "\n",
            "2020-08-30 20:32:31 (60.4 MB/s) - ‘2011gcn.csv’ saved [12563086/12563086]\n",
            "\n",
            "--2020-08-30 20:32:31--  https://raw.githubusercontent.com/pranavn91/blockchain/master/tx2011partvertices_new.csv\n",
            "Resolving raw.githubusercontent.com (raw.githubusercontent.com)... 151.101.0.133, 151.101.64.133, 151.101.128.133, ...\n",
            "Connecting to raw.githubusercontent.com (raw.githubusercontent.com)|151.101.0.133|:443... connected.\n",
            "HTTP request sent, awaiting response... 200 OK\n",
            "Length: 12501458 (12M) [text/plain]\n",
            "Saving to: ‘tx2011partvertices_new.csv’\n",
            "\n",
            "tx2011partvertices_ 100%[===================>]  11.92M  60.7MB/s    in 0.2s    \n",
            "\n",
            "2020-08-30 20:32:31 (60.7 MB/s) - ‘tx2011partvertices_new.csv’ saved [12501458/12501458]\n",
            "\n",
            "--2020-08-30 20:32:31--  https://raw.githubusercontent.com/pranavn91/blockchain/master/tx2011partvertices.csv\n",
            "Resolving raw.githubusercontent.com (raw.githubusercontent.com)... 151.101.0.133, 151.101.64.133, 151.101.128.133, ...\n",
            "Connecting to raw.githubusercontent.com (raw.githubusercontent.com)|151.101.0.133|:443... connected.\n",
            "HTTP request sent, awaiting response... 200 OK\n",
            "Length: 1934257 (1.8M) [text/plain]\n",
            "Saving to: ‘tx2011partvertices.csv’\n",
            "\n",
            "tx2011partvertices. 100%[===================>]   1.84M  --.-KB/s    in 0.05s   \n",
            "\n",
            "2020-08-30 20:32:32 (34.4 MB/s) - ‘tx2011partvertices.csv’ saved [1934257/1934257]\n",
            "\n"
          ],
          "name": "stdout"
        }
      ]
    },
    {
      "cell_type": "code",
      "metadata": {
        "id": "XAcTP4GEEkSL",
        "colab_type": "code",
        "colab": {
          "base_uri": "https://localhost:8080/",
          "height": 436
        },
        "outputId": "cb18b5f6-8ca1-4f3d-80d5-83d1c50bef3d"
      },
      "source": [
        "df1 = pd.read_csv('2011gcn.csv')\n",
        "df2 = pd.read_csv('tx2011partvertices_new.csv')\n",
        "df3 = pd.read_csv('tx2011partvertices.csv')"
      ],
      "execution_count": 5,
      "outputs": [
        {
          "output_type": "execute_result",
          "data": {
            "text/html": [
              "<div>\n",
              "<style scoped>\n",
              "    .dataframe tbody tr th:only-of-type {\n",
              "        vertical-align: middle;\n",
              "    }\n",
              "\n",
              "    .dataframe tbody tr th {\n",
              "        vertical-align: top;\n",
              "    }\n",
              "\n",
              "    .dataframe thead th {\n",
              "        text-align: right;\n",
              "    }\n",
              "</style>\n",
              "<table border=\"1\" class=\"dataframe\">\n",
              "  <thead>\n",
              "    <tr style=\"text-align: right;\">\n",
              "      <th></th>\n",
              "      <th>Unnamed: 0</th>\n",
              "      <th>0</th>\n",
              "      <th>1</th>\n",
              "      <th>2</th>\n",
              "      <th>3</th>\n",
              "      <th>4</th>\n",
              "      <th>5</th>\n",
              "      <th>6</th>\n",
              "      <th>7</th>\n",
              "      <th>8</th>\n",
              "      <th>9</th>\n",
              "      <th>10</th>\n",
              "      <th>11</th>\n",
              "      <th>12</th>\n",
              "      <th>13</th>\n",
              "      <th>14</th>\n",
              "      <th>15</th>\n",
              "    </tr>\n",
              "  </thead>\n",
              "  <tbody>\n",
              "    <tr>\n",
              "      <th>0</th>\n",
              "      <td>0</td>\n",
              "      <td>0.0</td>\n",
              "      <td>4.811244e+07</td>\n",
              "      <td>0.0</td>\n",
              "      <td>0.0</td>\n",
              "      <td>5.298934e+07</td>\n",
              "      <td>0.0</td>\n",
              "      <td>5.215435e+07</td>\n",
              "      <td>0.0</td>\n",
              "      <td>0.0</td>\n",
              "      <td>4.293262e+05</td>\n",
              "      <td>3.994267e+07</td>\n",
              "      <td>6.251989e+07</td>\n",
              "      <td>0.0</td>\n",
              "      <td>0.0</td>\n",
              "      <td>2.670458e+07</td>\n",
              "      <td>8.313858e+07</td>\n",
              "    </tr>\n",
              "    <tr>\n",
              "      <th>1</th>\n",
              "      <td>1</td>\n",
              "      <td>0.0</td>\n",
              "      <td>3.477977e+05</td>\n",
              "      <td>0.0</td>\n",
              "      <td>0.0</td>\n",
              "      <td>3.777575e+05</td>\n",
              "      <td>0.0</td>\n",
              "      <td>3.757520e+05</td>\n",
              "      <td>0.0</td>\n",
              "      <td>0.0</td>\n",
              "      <td>6.889133e+03</td>\n",
              "      <td>3.001618e+05</td>\n",
              "      <td>4.527358e+05</td>\n",
              "      <td>0.0</td>\n",
              "      <td>0.0</td>\n",
              "      <td>1.915057e+05</td>\n",
              "      <td>6.009039e+05</td>\n",
              "    </tr>\n",
              "    <tr>\n",
              "      <th>2</th>\n",
              "      <td>2</td>\n",
              "      <td>0.0</td>\n",
              "      <td>6.455196e+07</td>\n",
              "      <td>0.0</td>\n",
              "      <td>0.0</td>\n",
              "      <td>7.110790e+07</td>\n",
              "      <td>0.0</td>\n",
              "      <td>6.997804e+07</td>\n",
              "      <td>0.0</td>\n",
              "      <td>0.0</td>\n",
              "      <td>5.670157e+05</td>\n",
              "      <td>5.356332e+07</td>\n",
              "      <td>8.388026e+07</td>\n",
              "      <td>0.0</td>\n",
              "      <td>0.0</td>\n",
              "      <td>3.583296e+07</td>\n",
              "      <td>1.115463e+08</td>\n",
              "    </tr>\n",
              "    <tr>\n",
              "      <th>3</th>\n",
              "      <td>3</td>\n",
              "      <td>0.0</td>\n",
              "      <td>2.009876e+08</td>\n",
              "      <td>0.0</td>\n",
              "      <td>0.0</td>\n",
              "      <td>2.214679e+08</td>\n",
              "      <td>0.0</td>\n",
              "      <td>2.174101e+08</td>\n",
              "      <td>0.0</td>\n",
              "      <td>0.0</td>\n",
              "      <td>1.342720e+06</td>\n",
              "      <td>1.665389e+08</td>\n",
              "      <td>2.614420e+08</td>\n",
              "      <td>0.0</td>\n",
              "      <td>0.0</td>\n",
              "      <td>1.116514e+08</td>\n",
              "      <td>3.472892e+08</td>\n",
              "    </tr>\n",
              "    <tr>\n",
              "      <th>4</th>\n",
              "      <td>4</td>\n",
              "      <td>0.0</td>\n",
              "      <td>2.384675e+05</td>\n",
              "      <td>0.0</td>\n",
              "      <td>0.0</td>\n",
              "      <td>2.597246e+05</td>\n",
              "      <td>0.0</td>\n",
              "      <td>2.577884e+05</td>\n",
              "      <td>0.0</td>\n",
              "      <td>0.0</td>\n",
              "      <td>4.202993e+03</td>\n",
              "      <td>2.042845e+05</td>\n",
              "      <td>3.103489e+05</td>\n",
              "      <td>0.0</td>\n",
              "      <td>0.0</td>\n",
              "      <td>1.315073e+05</td>\n",
              "      <td>4.120424e+05</td>\n",
              "    </tr>\n",
              "    <tr>\n",
              "      <th>...</th>\n",
              "      <td>...</td>\n",
              "      <td>...</td>\n",
              "      <td>...</td>\n",
              "      <td>...</td>\n",
              "      <td>...</td>\n",
              "      <td>...</td>\n",
              "      <td>...</td>\n",
              "      <td>...</td>\n",
              "      <td>...</td>\n",
              "      <td>...</td>\n",
              "      <td>...</td>\n",
              "      <td>...</td>\n",
              "      <td>...</td>\n",
              "      <td>...</td>\n",
              "      <td>...</td>\n",
              "      <td>...</td>\n",
              "      <td>...</td>\n",
              "    </tr>\n",
              "    <tr>\n",
              "      <th>96493</th>\n",
              "      <td>96493</td>\n",
              "      <td>0.0</td>\n",
              "      <td>1.076483e+09</td>\n",
              "      <td>0.0</td>\n",
              "      <td>0.0</td>\n",
              "      <td>1.186269e+09</td>\n",
              "      <td>0.0</td>\n",
              "      <td>1.167082e+09</td>\n",
              "      <td>0.0</td>\n",
              "      <td>0.0</td>\n",
              "      <td>9.130316e+06</td>\n",
              "      <td>8.922416e+08</td>\n",
              "      <td>1.398730e+09</td>\n",
              "      <td>0.0</td>\n",
              "      <td>0.0</td>\n",
              "      <td>5.976924e+08</td>\n",
              "      <td>1.860175e+09</td>\n",
              "    </tr>\n",
              "    <tr>\n",
              "      <th>96494</th>\n",
              "      <td>96494</td>\n",
              "      <td>0.0</td>\n",
              "      <td>3.046724e+09</td>\n",
              "      <td>0.0</td>\n",
              "      <td>0.0</td>\n",
              "      <td>3.357382e+09</td>\n",
              "      <td>0.0</td>\n",
              "      <td>3.303128e+09</td>\n",
              "      <td>0.0</td>\n",
              "      <td>0.0</td>\n",
              "      <td>2.588797e+07</td>\n",
              "      <td>2.525414e+09</td>\n",
              "      <td>3.958776e+09</td>\n",
              "      <td>0.0</td>\n",
              "      <td>0.0</td>\n",
              "      <td>1.691605e+09</td>\n",
              "      <td>5.264773e+09</td>\n",
              "    </tr>\n",
              "    <tr>\n",
              "      <th>96495</th>\n",
              "      <td>96495</td>\n",
              "      <td>0.0</td>\n",
              "      <td>7.927045e+08</td>\n",
              "      <td>0.0</td>\n",
              "      <td>0.0</td>\n",
              "      <td>8.734944e+08</td>\n",
              "      <td>0.0</td>\n",
              "      <td>8.594076e+08</td>\n",
              "      <td>0.0</td>\n",
              "      <td>0.0</td>\n",
              "      <td>6.762438e+06</td>\n",
              "      <td>6.571497e+08</td>\n",
              "      <td>1.030010e+09</td>\n",
              "      <td>0.0</td>\n",
              "      <td>0.0</td>\n",
              "      <td>4.401156e+08</td>\n",
              "      <td>1.369801e+09</td>\n",
              "    </tr>\n",
              "    <tr>\n",
              "      <th>96496</th>\n",
              "      <td>96496</td>\n",
              "      <td>0.0</td>\n",
              "      <td>1.702268e+09</td>\n",
              "      <td>0.0</td>\n",
              "      <td>0.0</td>\n",
              "      <td>1.875876e+09</td>\n",
              "      <td>0.0</td>\n",
              "      <td>1.845536e+09</td>\n",
              "      <td>0.0</td>\n",
              "      <td>0.0</td>\n",
              "      <td>1.443773e+07</td>\n",
              "      <td>1.410918e+09</td>\n",
              "      <td>2.211843e+09</td>\n",
              "      <td>0.0</td>\n",
              "      <td>0.0</td>\n",
              "      <td>9.451462e+08</td>\n",
              "      <td>2.941539e+09</td>\n",
              "    </tr>\n",
              "    <tr>\n",
              "      <th>96497</th>\n",
              "      <td>96497</td>\n",
              "      <td>0.0</td>\n",
              "      <td>7.130671e+08</td>\n",
              "      <td>0.0</td>\n",
              "      <td>0.0</td>\n",
              "      <td>7.857890e+08</td>\n",
              "      <td>0.0</td>\n",
              "      <td>7.730804e+08</td>\n",
              "      <td>0.0</td>\n",
              "      <td>0.0</td>\n",
              "      <td>6.048914e+06</td>\n",
              "      <td>5.910271e+08</td>\n",
              "      <td>9.265253e+08</td>\n",
              "      <td>0.0</td>\n",
              "      <td>0.0</td>\n",
              "      <td>3.959137e+08</td>\n",
              "      <td>1.232188e+09</td>\n",
              "    </tr>\n",
              "  </tbody>\n",
              "</table>\n",
              "<p>96498 rows × 17 columns</p>\n",
              "</div>"
            ],
            "text/plain": [
              "       Unnamed: 0    0             1    2  ...   12   13            14            15\n",
              "0               0  0.0  4.811244e+07  0.0  ...  0.0  0.0  2.670458e+07  8.313858e+07\n",
              "1               1  0.0  3.477977e+05  0.0  ...  0.0  0.0  1.915057e+05  6.009039e+05\n",
              "2               2  0.0  6.455196e+07  0.0  ...  0.0  0.0  3.583296e+07  1.115463e+08\n",
              "3               3  0.0  2.009876e+08  0.0  ...  0.0  0.0  1.116514e+08  3.472892e+08\n",
              "4               4  0.0  2.384675e+05  0.0  ...  0.0  0.0  1.315073e+05  4.120424e+05\n",
              "...           ...  ...           ...  ...  ...  ...  ...           ...           ...\n",
              "96493       96493  0.0  1.076483e+09  0.0  ...  0.0  0.0  5.976924e+08  1.860175e+09\n",
              "96494       96494  0.0  3.046724e+09  0.0  ...  0.0  0.0  1.691605e+09  5.264773e+09\n",
              "96495       96495  0.0  7.927045e+08  0.0  ...  0.0  0.0  4.401156e+08  1.369801e+09\n",
              "96496       96496  0.0  1.702268e+09  0.0  ...  0.0  0.0  9.451462e+08  2.941539e+09\n",
              "96497       96497  0.0  7.130671e+08  0.0  ...  0.0  0.0  3.959137e+08  1.232188e+09\n",
              "\n",
              "[96498 rows x 17 columns]"
            ]
          },
          "metadata": {
            "tags": []
          },
          "execution_count": 5
        }
      ]
    },
    {
      "cell_type": "code",
      "metadata": {
        "id": "tkz7R9LnExCi",
        "colab_type": "code",
        "colab": {
          "base_uri": "https://localhost:8080/",
          "height": 68
        },
        "outputId": "91152d8c-3615-4f6f-a9bd-3a849b0cac84"
      },
      "source": [
        "print('df1 Shape: ', df1.shape)\n",
        "print('df2 Shape: ', df2.shape)\n",
        "print('df3 Shape: ', df3.shape)"
      ],
      "execution_count": 4,
      "outputs": [
        {
          "output_type": "stream",
          "text": [
            "df1 Shape:  (96498, 17)\n",
            "df2 Shape:  (96498, 20)\n",
            "df3 Shape:  (96498, 2)\n"
          ],
          "name": "stdout"
        }
      ]
    },
    {
      "cell_type": "code",
      "metadata": {
        "id": "103iUjVlE7Ai",
        "colab_type": "code",
        "colab": {}
      },
      "source": [
        "df1.rename(columns={'Unnamed: 0':'index'}, inplace=True)\n",
        "df2.rename(columns={'Unnamed: 0':'index'}, inplace=True)\n",
        "df3.rename(columns={'Unnamed: 0':'index'}, inplace=True)"
      ],
      "execution_count": 8,
      "outputs": []
    },
    {
      "cell_type": "code",
      "metadata": {
        "id": "LKz31OxhFV1O",
        "colab_type": "code",
        "colab": {
          "base_uri": "https://localhost:8080/",
          "height": 187
        },
        "outputId": "3b26cc52-90c9-4735-f805-6029db23e899"
      },
      "source": [
        "\n",
        "print(df1.columns)\n",
        "print(df2.columns)\n",
        "print(df3.columns)"
      ],
      "execution_count": 9,
      "outputs": [
        {
          "output_type": "stream",
          "text": [
            "Index(['index', '0', '1', '2', '3', '4', '5', '6', '7', '8', '9', '10', '11',\n",
            "       '12', '13', '14', '15'],\n",
            "      dtype='object')\n",
            "Index(['index', 'txsize', 'txvirtualsize', 'txinputs_count', 'txoutputs_count',\n",
            "       'txinput_val', 'txoutput_val', 'txfee', 'Min_received', 'Max_received',\n",
            "       'Avg_received', 'Total_received', 'Stdev_received', 'Var_received',\n",
            "       'Min_sent', 'Max_sent', 'Avg_sent', 'Total_sent', 'Stdev_sent',\n",
            "       'Var_sent'],\n",
            "      dtype='object')\n",
            "Index(['index', 'label'], dtype='object')\n"
          ],
          "name": "stdout"
        }
      ]
    },
    {
      "cell_type": "code",
      "metadata": {
        "id": "43yo-aazFqJA",
        "colab_type": "code",
        "colab": {}
      },
      "source": [
        "X = pd.merge(df3, df1, on='index', how='inner')\n",
        "x = X.iloc[:,2:18]\n",
        "Y = X['label']"
      ],
      "execution_count": 14,
      "outputs": []
    },
    {
      "cell_type": "code",
      "metadata": {
        "id": "UvAH27DEF9LP",
        "colab_type": "code",
        "colab": {
          "base_uri": "https://localhost:8080/",
          "height": 51
        },
        "outputId": "8ad13e57-cde9-4000-a139-b59fd9e07d2b"
      },
      "source": [
        "from sklearn import preprocessing\n",
        "y = pd.get_dummies(Y)\n",
        "\n",
        "print(x.shape)\n",
        "print(y.shape)"
      ],
      "execution_count": 15,
      "outputs": [
        {
          "output_type": "stream",
          "text": [
            "(96497, 16)\n",
            "(96497, 6)\n"
          ],
          "name": "stdout"
        }
      ]
    },
    {
      "cell_type": "code",
      "metadata": {
        "id": "o1BUeLEZF57V",
        "colab_type": "code",
        "colab": {}
      },
      "source": [
        "from sklearn.model_selection import train_test_split\n",
        "\n",
        "seed = 1\n",
        "x_train, x_test, y_train, y_test = train_test_split(x, y, test_size=0.4, random_state=seed)\n",
        "x_val, x_test, y_val, y_test = train_test_split(x_test, y_test, test_size= 0.5, random_state=seed)"
      ],
      "execution_count": 16,
      "outputs": []
    },
    {
      "cell_type": "code",
      "metadata": {
        "id": "4gQhv5DqGPkI",
        "colab_type": "code",
        "colab": {
          "base_uri": "https://localhost:8080/",
          "height": 119
        },
        "outputId": "c6f8416d-a236-432a-e066-338348c94610"
      },
      "source": [
        "print(x_train.shape)\n",
        "print(x_val.shape)\n",
        "print(x_test.shape)\n",
        "print(y_train.shape)\n",
        "print(y_val.shape)\n",
        "print(y_test.shape)"
      ],
      "execution_count": 17,
      "outputs": [
        {
          "output_type": "stream",
          "text": [
            "(57898, 16)\n",
            "(19299, 16)\n",
            "(19300, 16)\n",
            "(57898, 6)\n",
            "(19299, 6)\n",
            "(19300, 6)\n"
          ],
          "name": "stdout"
        }
      ]
    },
    {
      "cell_type": "code",
      "metadata": {
        "id": "8UPSy9k5GdHs",
        "colab_type": "code",
        "colab": {
          "base_uri": "https://localhost:8080/",
          "height": 289
        },
        "outputId": "b345c60b-2660-444b-e225-35d33b1072da"
      },
      "source": [
        "from keras import models\n",
        "from keras import layers\n",
        "\n",
        "nn=models.Sequential()\n",
        "\n",
        "nn.add(layers.Dense(1024,activation = \"relu\",input_shape=(16,))) \n",
        "nn.add(layers.Dense(512,activation='tanh'))\n",
        "nn.add(layers.Dense(512,activation='tanh'))\n",
        "nn.add(layers.Dense(6,activation='softmax'))\n",
        "\n",
        "nn.summary()"
      ],
      "execution_count": 18,
      "outputs": [
        {
          "output_type": "stream",
          "text": [
            "Model: \"sequential\"\n",
            "_________________________________________________________________\n",
            "Layer (type)                 Output Shape              Param #   \n",
            "=================================================================\n",
            "dense (Dense)                (None, 1024)              17408     \n",
            "_________________________________________________________________\n",
            "dense_1 (Dense)              (None, 512)               524800    \n",
            "_________________________________________________________________\n",
            "dense_2 (Dense)              (None, 512)               262656    \n",
            "_________________________________________________________________\n",
            "dense_3 (Dense)              (None, 6)                 3078      \n",
            "=================================================================\n",
            "Total params: 807,942\n",
            "Trainable params: 807,942\n",
            "Non-trainable params: 0\n",
            "_________________________________________________________________\n"
          ],
          "name": "stdout"
        }
      ]
    },
    {
      "cell_type": "code",
      "metadata": {
        "id": "Yuw2mF4MGxPU",
        "colab_type": "code",
        "colab": {}
      },
      "source": [
        "nn.compile(optimizer = \"rmsprop\", loss = 'categorical_crossentropy', metrics = ['accuracy'])"
      ],
      "execution_count": 20,
      "outputs": []
    },
    {
      "cell_type": "code",
      "metadata": {
        "id": "bmVCgkTfGlMF",
        "colab_type": "code",
        "colab": {
          "base_uri": "https://localhost:8080/",
          "height": 1000
        },
        "outputId": "a72518a6-1c02-4a89-97ae-636d52f5aa50"
      },
      "source": [
        "hist = nn.fit(x_train, y_train, epochs=100, batch_size=256, validation_data = (x_val, y_val))"
      ],
      "execution_count": 21,
      "outputs": [
        {
          "output_type": "stream",
          "text": [
            "Epoch 1/100\n",
            "227/227 [==============================] - 7s 32ms/step - loss: 0.6704 - accuracy: 0.8395 - val_loss: 0.6473 - val_accuracy: 0.8525\n",
            "Epoch 2/100\n",
            "227/227 [==============================] - 7s 31ms/step - loss: 0.6138 - accuracy: 0.8478 - val_loss: 0.6006 - val_accuracy: 0.8347\n",
            "Epoch 3/100\n",
            "227/227 [==============================] - 7s 31ms/step - loss: 0.6051 - accuracy: 0.8505 - val_loss: 0.6150 - val_accuracy: 0.8478\n",
            "Epoch 4/100\n",
            "227/227 [==============================] - 7s 31ms/step - loss: 0.6099 - accuracy: 0.8481 - val_loss: 0.6551 - val_accuracy: 0.8334\n",
            "Epoch 5/100\n",
            "227/227 [==============================] - 7s 31ms/step - loss: 0.6097 - accuracy: 0.8489 - val_loss: 0.6082 - val_accuracy: 0.8531\n",
            "Epoch 6/100\n",
            "227/227 [==============================] - 7s 31ms/step - loss: 0.6149 - accuracy: 0.8476 - val_loss: 0.6832 - val_accuracy: 0.8313\n",
            "Epoch 7/100\n",
            "227/227 [==============================] - 7s 31ms/step - loss: 0.6383 - accuracy: 0.8369 - val_loss: 0.6282 - val_accuracy: 0.8427\n",
            "Epoch 8/100\n",
            "227/227 [==============================] - 7s 31ms/step - loss: 0.6318 - accuracy: 0.8408 - val_loss: 0.6878 - val_accuracy: 0.8320\n",
            "Epoch 9/100\n",
            "227/227 [==============================] - 7s 31ms/step - loss: 0.6246 - accuracy: 0.8432 - val_loss: 0.5956 - val_accuracy: 0.8351\n",
            "Epoch 10/100\n",
            "227/227 [==============================] - 7s 31ms/step - loss: 0.6134 - accuracy: 0.8477 - val_loss: 0.6334 - val_accuracy: 0.8530\n",
            "Epoch 11/100\n",
            "227/227 [==============================] - 7s 31ms/step - loss: 0.6008 - accuracy: 0.8532 - val_loss: 0.6542 - val_accuracy: 0.8320\n",
            "Epoch 12/100\n",
            "227/227 [==============================] - 7s 31ms/step - loss: 0.6261 - accuracy: 0.8426 - val_loss: 0.6612 - val_accuracy: 0.8320\n",
            "Epoch 13/100\n",
            "227/227 [==============================] - 7s 31ms/step - loss: 0.6481 - accuracy: 0.8341 - val_loss: 0.9957 - val_accuracy: 0.0948\n",
            "Epoch 14/100\n",
            "227/227 [==============================] - 7s 31ms/step - loss: 0.6504 - accuracy: 0.8305 - val_loss: 0.6887 - val_accuracy: 0.8320\n",
            "Epoch 15/100\n",
            "227/227 [==============================] - 7s 31ms/step - loss: 0.6479 - accuracy: 0.8342 - val_loss: 0.6684 - val_accuracy: 0.8320\n",
            "Epoch 16/100\n",
            "227/227 [==============================] - 7s 31ms/step - loss: 0.6466 - accuracy: 0.8341 - val_loss: 0.8926 - val_accuracy: 0.8320\n",
            "Epoch 17/100\n",
            "227/227 [==============================] - 7s 31ms/step - loss: 0.6364 - accuracy: 0.8356 - val_loss: 0.6340 - val_accuracy: 0.8315\n",
            "Epoch 18/100\n",
            "227/227 [==============================] - 7s 31ms/step - loss: 0.6249 - accuracy: 0.8415 - val_loss: 0.7231 - val_accuracy: 0.8295\n",
            "Epoch 19/100\n",
            "227/227 [==============================] - 7s 31ms/step - loss: 0.6384 - accuracy: 0.8362 - val_loss: 0.6746 - val_accuracy: 0.8320\n",
            "Epoch 20/100\n",
            "227/227 [==============================] - 7s 31ms/step - loss: 0.6344 - accuracy: 0.8388 - val_loss: 0.7293 - val_accuracy: 0.8320\n",
            "Epoch 21/100\n",
            "227/227 [==============================] - 7s 31ms/step - loss: 0.6401 - accuracy: 0.8351 - val_loss: 0.6995 - val_accuracy: 0.8320\n",
            "Epoch 22/100\n",
            "227/227 [==============================] - 7s 31ms/step - loss: 0.6482 - accuracy: 0.8317 - val_loss: 0.6763 - val_accuracy: 0.8320\n",
            "Epoch 23/100\n",
            "227/227 [==============================] - 7s 31ms/step - loss: 0.6510 - accuracy: 0.8313 - val_loss: 0.6629 - val_accuracy: 0.8320\n",
            "Epoch 24/100\n",
            "227/227 [==============================] - 7s 31ms/step - loss: 0.6488 - accuracy: 0.8344 - val_loss: 0.6587 - val_accuracy: 0.8320\n",
            "Epoch 25/100\n",
            "227/227 [==============================] - 7s 31ms/step - loss: 0.6352 - accuracy: 0.8346 - val_loss: 1.4641 - val_accuracy: 0.0943\n",
            "Epoch 26/100\n",
            "227/227 [==============================] - 7s 31ms/step - loss: 0.6250 - accuracy: 0.8407 - val_loss: 0.6408 - val_accuracy: 0.8535\n",
            "Epoch 27/100\n",
            "227/227 [==============================] - 7s 31ms/step - loss: 0.6128 - accuracy: 0.8486 - val_loss: 0.6610 - val_accuracy: 0.8320\n",
            "Epoch 28/100\n",
            "227/227 [==============================] - 7s 31ms/step - loss: 0.6073 - accuracy: 0.8501 - val_loss: 0.6737 - val_accuracy: 0.8320\n",
            "Epoch 29/100\n",
            "227/227 [==============================] - 7s 31ms/step - loss: 0.5994 - accuracy: 0.8527 - val_loss: 0.6822 - val_accuracy: 0.8320\n",
            "Epoch 30/100\n",
            "227/227 [==============================] - 7s 31ms/step - loss: 0.5968 - accuracy: 0.8543 - val_loss: 0.6117 - val_accuracy: 0.8547\n",
            "Epoch 31/100\n",
            "227/227 [==============================] - 7s 31ms/step - loss: 0.5948 - accuracy: 0.8546 - val_loss: 0.6831 - val_accuracy: 0.8320\n",
            "Epoch 32/100\n",
            "227/227 [==============================] - 7s 31ms/step - loss: 0.5951 - accuracy: 0.8549 - val_loss: 0.6115 - val_accuracy: 0.8562\n",
            "Epoch 33/100\n",
            "227/227 [==============================] - 7s 31ms/step - loss: 0.5909 - accuracy: 0.8561 - val_loss: 0.6440 - val_accuracy: 0.8542\n",
            "Epoch 34/100\n",
            "227/227 [==============================] - 7s 31ms/step - loss: 0.5893 - accuracy: 0.8568 - val_loss: 0.6765 - val_accuracy: 0.8541\n",
            "Epoch 35/100\n",
            "227/227 [==============================] - 7s 32ms/step - loss: 0.5915 - accuracy: 0.8567 - val_loss: 0.6780 - val_accuracy: 0.8522\n",
            "Epoch 36/100\n",
            "227/227 [==============================] - 7s 31ms/step - loss: 0.5909 - accuracy: 0.8570 - val_loss: 0.6266 - val_accuracy: 0.8543\n",
            "Epoch 37/100\n",
            "227/227 [==============================] - 7s 31ms/step - loss: 0.5898 - accuracy: 0.8569 - val_loss: 0.5928 - val_accuracy: 0.8562\n",
            "Epoch 38/100\n",
            "227/227 [==============================] - 7s 31ms/step - loss: 0.5881 - accuracy: 0.8576 - val_loss: 0.6328 - val_accuracy: 0.8547\n",
            "Epoch 39/100\n",
            "227/227 [==============================] - 7s 31ms/step - loss: 0.5887 - accuracy: 0.8574 - val_loss: 0.6561 - val_accuracy: 0.8562\n",
            "Epoch 40/100\n",
            "227/227 [==============================] - 7s 31ms/step - loss: 0.5887 - accuracy: 0.8577 - val_loss: 0.7524 - val_accuracy: 0.8320\n",
            "Epoch 41/100\n",
            "227/227 [==============================] - 7s 31ms/step - loss: 0.5889 - accuracy: 0.8574 - val_loss: 0.6026 - val_accuracy: 0.8547\n",
            "Epoch 42/100\n",
            "227/227 [==============================] - 7s 31ms/step - loss: 0.5881 - accuracy: 0.8576 - val_loss: 0.6497 - val_accuracy: 0.8543\n",
            "Epoch 43/100\n",
            "227/227 [==============================] - 7s 31ms/step - loss: 0.5879 - accuracy: 0.8574 - val_loss: 0.5931 - val_accuracy: 0.8557\n",
            "Epoch 44/100\n",
            "227/227 [==============================] - 7s 31ms/step - loss: 0.5887 - accuracy: 0.8576 - val_loss: 0.6774 - val_accuracy: 0.8535\n",
            "Epoch 45/100\n",
            "227/227 [==============================] - 7s 31ms/step - loss: 0.5883 - accuracy: 0.8579 - val_loss: 0.5957 - val_accuracy: 0.8543\n",
            "Epoch 46/100\n",
            "227/227 [==============================] - 7s 32ms/step - loss: 0.5875 - accuracy: 0.8581 - val_loss: 0.6223 - val_accuracy: 0.8543\n",
            "Epoch 47/100\n",
            "227/227 [==============================] - 7s 32ms/step - loss: 0.5874 - accuracy: 0.8581 - val_loss: 0.6443 - val_accuracy: 0.8542\n",
            "Epoch 48/100\n",
            "227/227 [==============================] - 7s 32ms/step - loss: 0.5877 - accuracy: 0.8577 - val_loss: 0.5943 - val_accuracy: 0.8562\n",
            "Epoch 49/100\n",
            "227/227 [==============================] - 7s 32ms/step - loss: 0.5865 - accuracy: 0.8578 - val_loss: 0.6074 - val_accuracy: 0.8543\n",
            "Epoch 50/100\n",
            "227/227 [==============================] - 7s 32ms/step - loss: 0.5876 - accuracy: 0.8579 - val_loss: 0.6834 - val_accuracy: 0.8543\n",
            "Epoch 51/100\n",
            "227/227 [==============================] - 7s 32ms/step - loss: 0.5879 - accuracy: 0.8580 - val_loss: 0.5960 - val_accuracy: 0.8550\n",
            "Epoch 52/100\n",
            "227/227 [==============================] - 7s 31ms/step - loss: 0.5868 - accuracy: 0.8580 - val_loss: 0.6220 - val_accuracy: 0.8562\n",
            "Epoch 53/100\n",
            "227/227 [==============================] - 7s 31ms/step - loss: 0.5874 - accuracy: 0.8581 - val_loss: 0.7047 - val_accuracy: 0.8544\n",
            "Epoch 54/100\n",
            "227/227 [==============================] - 7s 31ms/step - loss: 0.5875 - accuracy: 0.8578 - val_loss: 0.6266 - val_accuracy: 0.8543\n",
            "Epoch 55/100\n",
            "227/227 [==============================] - 7s 31ms/step - loss: 0.5881 - accuracy: 0.8580 - val_loss: 0.5996 - val_accuracy: 0.8545\n",
            "Epoch 56/100\n",
            "227/227 [==============================] - 7s 31ms/step - loss: 0.5877 - accuracy: 0.8583 - val_loss: 0.6107 - val_accuracy: 0.8557\n",
            "Epoch 57/100\n",
            "227/227 [==============================] - 7s 31ms/step - loss: 0.5872 - accuracy: 0.8580 - val_loss: 0.6172 - val_accuracy: 0.8556\n",
            "Epoch 58/100\n",
            "227/227 [==============================] - 7s 31ms/step - loss: 0.5868 - accuracy: 0.8577 - val_loss: 0.6006 - val_accuracy: 0.8562\n",
            "Epoch 59/100\n",
            "227/227 [==============================] - 7s 31ms/step - loss: 0.5882 - accuracy: 0.8583 - val_loss: 0.6001 - val_accuracy: 0.8562\n",
            "Epoch 60/100\n",
            "227/227 [==============================] - 7s 31ms/step - loss: 0.5862 - accuracy: 0.8580 - val_loss: 0.6462 - val_accuracy: 0.8543\n",
            "Epoch 61/100\n",
            "227/227 [==============================] - 7s 31ms/step - loss: 0.5876 - accuracy: 0.8580 - val_loss: 0.6257 - val_accuracy: 0.8562\n",
            "Epoch 62/100\n",
            "227/227 [==============================] - 7s 31ms/step - loss: 0.5882 - accuracy: 0.8581 - val_loss: 0.6174 - val_accuracy: 0.8557\n",
            "Epoch 63/100\n",
            "227/227 [==============================] - 7s 31ms/step - loss: 0.5874 - accuracy: 0.8581 - val_loss: 0.6240 - val_accuracy: 0.8562\n",
            "Epoch 64/100\n",
            "227/227 [==============================] - 7s 31ms/step - loss: 0.5874 - accuracy: 0.8581 - val_loss: 0.6066 - val_accuracy: 0.8562\n",
            "Epoch 65/100\n",
            "227/227 [==============================] - 7s 31ms/step - loss: 0.5880 - accuracy: 0.8580 - val_loss: 0.5862 - val_accuracy: 0.8562\n",
            "Epoch 66/100\n",
            "227/227 [==============================] - 7s 31ms/step - loss: 0.5868 - accuracy: 0.8581 - val_loss: 0.6667 - val_accuracy: 0.8557\n",
            "Epoch 67/100\n",
            "227/227 [==============================] - 7s 31ms/step - loss: 0.5878 - accuracy: 0.8581 - val_loss: 0.6963 - val_accuracy: 0.8519\n",
            "Epoch 68/100\n",
            "227/227 [==============================] - 7s 31ms/step - loss: 0.5869 - accuracy: 0.8580 - val_loss: 0.6070 - val_accuracy: 0.8562\n",
            "Epoch 69/100\n",
            "227/227 [==============================] - 7s 31ms/step - loss: 0.5870 - accuracy: 0.8580 - val_loss: 0.6244 - val_accuracy: 0.8557\n",
            "Epoch 70/100\n",
            "227/227 [==============================] - 7s 31ms/step - loss: 0.5869 - accuracy: 0.8582 - val_loss: 0.7435 - val_accuracy: 0.8541\n",
            "Epoch 71/100\n",
            "227/227 [==============================] - 7s 31ms/step - loss: 0.5884 - accuracy: 0.8581 - val_loss: 0.9041 - val_accuracy: 0.8535\n",
            "Epoch 72/100\n",
            "227/227 [==============================] - 7s 31ms/step - loss: 0.5885 - accuracy: 0.8578 - val_loss: 0.6349 - val_accuracy: 0.8557\n",
            "Epoch 73/100\n",
            "227/227 [==============================] - 7s 31ms/step - loss: 0.5863 - accuracy: 0.8582 - val_loss: 0.6842 - val_accuracy: 0.8320\n",
            "Epoch 74/100\n",
            "227/227 [==============================] - 7s 31ms/step - loss: 0.5866 - accuracy: 0.8580 - val_loss: 0.6178 - val_accuracy: 0.8562\n",
            "Epoch 75/100\n",
            "227/227 [==============================] - 7s 31ms/step - loss: 0.5886 - accuracy: 0.8580 - val_loss: 0.6410 - val_accuracy: 0.8320\n",
            "Epoch 76/100\n",
            "227/227 [==============================] - 7s 31ms/step - loss: 0.5869 - accuracy: 0.8580 - val_loss: 0.7657 - val_accuracy: 0.8545\n",
            "Epoch 77/100\n",
            "227/227 [==============================] - 7s 31ms/step - loss: 0.5869 - accuracy: 0.8579 - val_loss: 0.6044 - val_accuracy: 0.8538\n",
            "Epoch 78/100\n",
            "227/227 [==============================] - 7s 32ms/step - loss: 0.5871 - accuracy: 0.8579 - val_loss: 0.6068 - val_accuracy: 0.8562\n",
            "Epoch 79/100\n",
            "227/227 [==============================] - 7s 32ms/step - loss: 0.5876 - accuracy: 0.8580 - val_loss: 0.6003 - val_accuracy: 0.8557\n",
            "Epoch 80/100\n",
            "227/227 [==============================] - 7s 31ms/step - loss: 0.5878 - accuracy: 0.8578 - val_loss: 0.6008 - val_accuracy: 0.8562\n",
            "Epoch 81/100\n",
            "227/227 [==============================] - 7s 31ms/step - loss: 0.5866 - accuracy: 0.8578 - val_loss: 0.6695 - val_accuracy: 0.8541\n",
            "Epoch 82/100\n",
            "227/227 [==============================] - 7s 31ms/step - loss: 0.5874 - accuracy: 0.8580 - val_loss: 0.6967 - val_accuracy: 0.8320\n",
            "Epoch 83/100\n",
            "227/227 [==============================] - 7s 31ms/step - loss: 0.5876 - accuracy: 0.8580 - val_loss: 0.6056 - val_accuracy: 0.8562\n",
            "Epoch 84/100\n",
            "227/227 [==============================] - 7s 31ms/step - loss: 0.5865 - accuracy: 0.8579 - val_loss: 0.6547 - val_accuracy: 0.8562\n",
            "Epoch 85/100\n",
            "227/227 [==============================] - 7s 31ms/step - loss: 0.5868 - accuracy: 0.8584 - val_loss: 0.5989 - val_accuracy: 0.8562\n",
            "Epoch 86/100\n",
            "227/227 [==============================] - 7s 31ms/step - loss: 0.5867 - accuracy: 0.8583 - val_loss: 0.6271 - val_accuracy: 0.8562\n",
            "Epoch 87/100\n",
            "227/227 [==============================] - 7s 31ms/step - loss: 0.5868 - accuracy: 0.8579 - val_loss: 0.6293 - val_accuracy: 0.8562\n",
            "Epoch 88/100\n",
            "227/227 [==============================] - 7s 31ms/step - loss: 0.5876 - accuracy: 0.8581 - val_loss: 0.6253 - val_accuracy: 0.8557\n",
            "Epoch 89/100\n",
            "227/227 [==============================] - 7s 31ms/step - loss: 0.5871 - accuracy: 0.8581 - val_loss: 0.5915 - val_accuracy: 0.8557\n",
            "Epoch 90/100\n",
            "227/227 [==============================] - 7s 31ms/step - loss: 0.5872 - accuracy: 0.8581 - val_loss: 0.5981 - val_accuracy: 0.8561\n",
            "Epoch 91/100\n",
            "227/227 [==============================] - 7s 31ms/step - loss: 0.5859 - accuracy: 0.8579 - val_loss: 0.6441 - val_accuracy: 0.8543\n",
            "Epoch 92/100\n",
            "227/227 [==============================] - 7s 31ms/step - loss: 0.5880 - accuracy: 0.8581 - val_loss: 0.5873 - val_accuracy: 0.8562\n",
            "Epoch 93/100\n",
            "227/227 [==============================] - 7s 31ms/step - loss: 0.5864 - accuracy: 0.8580 - val_loss: 0.6169 - val_accuracy: 0.8543\n",
            "Epoch 94/100\n",
            "227/227 [==============================] - 7s 31ms/step - loss: 0.5880 - accuracy: 0.8583 - val_loss: 0.6209 - val_accuracy: 0.8562\n",
            "Epoch 95/100\n",
            "227/227 [==============================] - 7s 32ms/step - loss: 0.5865 - accuracy: 0.8581 - val_loss: 0.8517 - val_accuracy: 0.8530\n",
            "Epoch 96/100\n",
            "227/227 [==============================] - 7s 32ms/step - loss: 0.5884 - accuracy: 0.8581 - val_loss: 0.5846 - val_accuracy: 0.8543\n",
            "Epoch 97/100\n",
            "227/227 [==============================] - 7s 32ms/step - loss: 0.5870 - accuracy: 0.8582 - val_loss: 0.6260 - val_accuracy: 0.8562\n",
            "Epoch 98/100\n",
            "227/227 [==============================] - 7s 31ms/step - loss: 0.5873 - accuracy: 0.8582 - val_loss: 0.6029 - val_accuracy: 0.8562\n",
            "Epoch 99/100\n",
            "227/227 [==============================] - 7s 32ms/step - loss: 0.5866 - accuracy: 0.8584 - val_loss: 0.6461 - val_accuracy: 0.8562\n",
            "Epoch 100/100\n",
            "227/227 [==============================] - 7s 32ms/step - loss: 0.5865 - accuracy: 0.8580 - val_loss: 0.5995 - val_accuracy: 0.8562\n"
          ],
          "name": "stdout"
        }
      ]
    },
    {
      "cell_type": "code",
      "metadata": {
        "id": "PGyKNNpzG1rv",
        "colab_type": "code",
        "colab": {
          "base_uri": "https://localhost:8080/",
          "height": 68
        },
        "outputId": "93795c8c-254c-4698-bc1f-b929359b50ea"
      },
      "source": [
        "train_loss, train_accuracy = nn.evaluate(x_train, y_train)\n",
        "val_loss, val_accuracy = nn.evaluate(x_val, y_val)\n",
        "test_loss, test_accuracy = nn.evaluate(x_test, y_test)"
      ],
      "execution_count": 22,
      "outputs": [
        {
          "output_type": "stream",
          "text": [
            "1810/1810 [==============================] - 4s 2ms/step - loss: 0.5877 - accuracy: 0.8585\n",
            "604/604 [==============================] - 1s 2ms/step - loss: 0.5995 - accuracy: 0.8562\n",
            "604/604 [==============================] - 1s 2ms/step - loss: 0.5935 - accuracy: 0.8555\n"
          ],
          "name": "stdout"
        }
      ]
    },
    {
      "cell_type": "code",
      "metadata": {
        "id": "e7u4ZkXIG7Kv",
        "colab_type": "code",
        "colab": {
          "base_uri": "https://localhost:8080/",
          "height": 68
        },
        "outputId": "8010138c-749c-4897-b91c-84a700f3ac8f"
      },
      "source": [
        "print('Training Accuracy : ', train_accuracy*100, \"%\")\n",
        "print('Validate Accuracy : ', val_accuracy*100, \"%\")\n",
        "print('Test Accuracy : ', test_accuracy*100, \"%\")"
      ],
      "execution_count": 23,
      "outputs": [
        {
          "output_type": "stream",
          "text": [
            "Training Accuracy :  85.84752678871155 %\n",
            "Validate Accuracy :  85.62101721763611 %\n",
            "Test Accuracy :  85.55440306663513 %\n"
          ],
          "name": "stdout"
        }
      ]
    },
    {
      "cell_type": "code",
      "metadata": {
        "id": "EFtDkDwyG9KA",
        "colab_type": "code",
        "colab": {}
      },
      "source": [
        "loss_train, loss_val, epochs = hist.history['loss'], hist.history['val_loss'], range(1,101)"
      ],
      "execution_count": 27,
      "outputs": []
    },
    {
      "cell_type": "code",
      "metadata": {
        "id": "O169JU7-G_05",
        "colab_type": "code",
        "colab": {
          "base_uri": "https://localhost:8080/",
          "height": 295
        },
        "outputId": "8d04d8ea-e88b-4f9f-96b2-18b549d82cce"
      },
      "source": [
        "plt.plot(epochs, loss_train, 'g', label='Training loss')\n",
        "plt.plot(epochs, loss_val, 'b', label='validation loss')\n",
        "plt.title('Training and Validation loss')\n",
        "plt.xlabel('Epochs')\n",
        "plt.ylabel('Loss')\n",
        "plt.legend()\n",
        "plt.show()"
      ],
      "execution_count": 25,
      "outputs": [
        {
          "output_type": "display_data",
          "data": {
            "image/png": "[encoded data removed]",
            "text/plain": [
              "<Figure size 432x288 with 1 Axes>"
            ]
          },
          "metadata": {
            "tags": [],
            "needs_background": "light"
          }
        }
      ]
    },
    {
      "cell_type": "code",
      "metadata": {
        "id": "oDKCp1IuHCrL",
        "colab_type": "code",
        "colab": {}
      },
      "source": [
        "loss_train, loss_val, epochs = hist.history['accuracy'], hist.history['val_accuracy'], range(1,101)"
      ],
      "execution_count": 26,
      "outputs": []
    },
    {
      "cell_type": "code",
      "metadata": {
        "id": "FACZJW4nHH7l",
        "colab_type": "code",
        "colab": {
          "base_uri": "https://localhost:8080/",
          "height": 295
        },
        "outputId": "4828dc2a-0d43-498d-9a18-793835fb9cf4"
      },
      "source": [
        "plt.plot(epochs, loss_train, 'g', label='Training accuracy')\n",
        "plt.plot(epochs, loss_val, 'b', label='validation accuracy')\n",
        "plt.title('Training and Validation accuracy')\n",
        "plt.xlabel('Epochs')\n",
        "plt.ylabel('Accuracy')\n",
        "plt.legend()\n",
        "plt.show()"
      ],
      "execution_count": 28,
      "outputs": [
        {
          "output_type": "display_data",
          "data": {
            "image/png": "[encoded data removed]",
            "text/plain": [
              "<Figure size 432x288 with 1 Axes>"
            ]
          },
          "metadata": {
            "tags": [],
            "needs_background": "light"
          }
        }
      ]
    }
  ]
}