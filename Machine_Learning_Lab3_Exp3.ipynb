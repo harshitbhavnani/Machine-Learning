{
  "nbformat": 4,
  "nbformat_minor": 0,
  "metadata": {
    "colab": {
      "name": "Machine Learning | Lab 3 | Exp 3.ipynb",
      "provenance": [],
      "collapsed_sections": [],
      "include_colab_link": true
    },
    "kernelspec": {
      "name": "python3",
      "display_name": "Python 3"
    },
    "accelerator": "GPU"
  },
  "cells": [
    {
      "cell_type": "markdown",
      "metadata": {
        "id": "view-in-github",
        "colab_type": "text"
      },
      "source": [
        "<a href=\"https://colab.research.google.com/github/harshitbhavnani/Machine-Learning/blob/master/Machine_Learning_Lab3_Exp3.ipynb\" target=\"_parent\"><img src=\"https://colab.research.google.com/assets/colab-badge.svg\" alt=\"Open In Colab\"/></a>"
      ]
    },
    {
      "cell_type": "markdown",
      "metadata": {
        "id": "5RR54s6NMdeV",
        "colab_type": "text"
      },
      "source": [
        "# **Name: Harshit Bhavnani**\n",
        "**ROLL NO : J076**\n",
        "\n",
        "**EXPERIMENT/LAB: 3**"
      ]
    },
    {
      "cell_type": "markdown",
      "metadata": {
        "id": "cWLhsPaiNAB7",
        "colab_type": "text"
      },
      "source": [
        "This Lab covers the following Topics:\n",
        "\n",
        "1. Filtering\n",
        "2. Basic statistics(Apply Conditions,Changing Indexes)\n",
        "3. Line plots\n",
        "4. Area Plots(Stack/Unstacled)\n",
        "5. Bar Plots(Vertical/Horizontal)\n",
        "6. Histogram\n",
        "\n",
        "**Assignment:** Which two countries have the same immigration trends?\n"
      ]
    },
    {
      "cell_type": "markdown",
      "metadata": {
        "id": "BIx7bay962xa",
        "colab_type": "text"
      },
      "source": [
        "# Part-1"
      ]
    },
    {
      "cell_type": "code",
      "metadata": {
        "id": "3nERFwPCg3xO",
        "colab_type": "code",
        "colab": {}
      },
      "source": [
        "import numpy as np  # useful for many scientific computing in Python\n",
        "import pandas as pd # primary data structure library\n",
        "\n",
        "!conda install -c anaconda xlrd --yes\n",
        "\n",
        "df_can = pd.read_excel('https://s3-api.us-geo.objectstorage.softlayer.net/cf-courses-data/CognitiveClass/DV0101EN/labs/Data_Files/Canada.xlsx',\n",
        "                       sheet_name='Canada by Citizenship',\n",
        "                       skiprows=range(20),\n",
        "                       skipfooter=2)\n",
        "\n",
        "print ('Data read into a pandas dataframe!')"
      ],
      "execution_count": null,
      "outputs": []
    },
    {
      "cell_type": "code",
      "metadata": {
        "id": "lF9oJYZ-jnqj",
        "colab_type": "code",
        "colab": {}
      },
      "source": [
        "df_can.head()"
      ],
      "execution_count": null,
      "outputs": []
    },
    {
      "cell_type": "code",
      "metadata": {
        "id": "qevUUI7ZjqPb",
        "colab_type": "code",
        "colab": {}
      },
      "source": [
        "df_can.tail()"
      ],
      "execution_count": null,
      "outputs": []
    },
    {
      "cell_type": "code",
      "metadata": {
        "id": "U5QTB-uJjzaI",
        "colab_type": "code",
        "colab": {}
      },
      "source": [
        "df_can.info()"
      ],
      "execution_count": null,
      "outputs": []
    },
    {
      "cell_type": "code",
      "metadata": {
        "id": "58XH3gHRj-3p",
        "colab_type": "code",
        "colab": {}
      },
      "source": [
        "df_can.columns"
      ],
      "execution_count": null,
      "outputs": []
    },
    {
      "cell_type": "code",
      "metadata": {
        "id": "DW1PG6P9kKsU",
        "colab_type": "code",
        "colab": {}
      },
      "source": [
        "df_can.dtypes"
      ],
      "execution_count": null,
      "outputs": []
    },
    {
      "cell_type": "code",
      "metadata": {
        "id": "fydu00VvkV3j",
        "colab_type": "code",
        "colab": {}
      },
      "source": [
        "df_can.shape"
      ],
      "execution_count": null,
      "outputs": []
    },
    {
      "cell_type": "code",
      "metadata": {
        "id": "A4rH8pZOlN-3",
        "colab_type": "code",
        "colab": {}
      },
      "source": [
        "df_can.head()"
      ],
      "execution_count": null,
      "outputs": []
    },
    {
      "cell_type": "code",
      "metadata": {
        "id": "LgQ3fmCxkabs",
        "colab_type": "code",
        "colab": {}
      },
      "source": [
        "df_can.drop(['AREA','REG','Type','Coverage','DEV'], axis='columns', inplace=True)\n",
        "\n",
        "df_can.rename(columns={'OdName':'Country', 'AreaName':'Continent', 'RegName':'Region','DevName':'DevStatus'}, inplace=True)\n",
        "\n",
        "df_can['Total'] = df_can.sum(axis='columns')\n",
        "\n",
        "df_can.head()"
      ],
      "execution_count": null,
      "outputs": []
    },
    {
      "cell_type": "code",
      "metadata": {
        "id": "Rw-8rQjGmauF",
        "colab_type": "code",
        "colab": {}
      },
      "source": [
        "# applying conditions on dataframe\n",
        "\n",
        "condition = df_can['Continent'] == 'Asia'\n",
        "\n",
        "df_can[condition]"
      ],
      "execution_count": null,
      "outputs": []
    },
    {
      "cell_type": "code",
      "metadata": {
        "id": "SHoBnXdnm-ff",
        "colab_type": "code",
        "colab": {}
      },
      "source": [
        "df_can[(df_can['Continent']=='Asia') | (df_can['Continent']=='Europe')]"
      ],
      "execution_count": null,
      "outputs": []
    },
    {
      "cell_type": "code",
      "metadata": {
        "id": "Clkv7izdneSK",
        "colab_type": "code",
        "colab": {}
      },
      "source": [
        "df_can[['Country',1980,1981]]"
      ],
      "execution_count": null,
      "outputs": []
    },
    {
      "cell_type": "code",
      "metadata": {
        "id": "NTBmma30oSVG",
        "colab_type": "code",
        "colab": {}
      },
      "source": [
        "df_can.Country"
      ],
      "execution_count": null,
      "outputs": []
    },
    {
      "cell_type": "code",
      "metadata": {
        "id": "b9CljhVZoVKf",
        "colab_type": "code",
        "colab": {}
      },
      "source": [
        "type(df_can.Country)"
      ],
      "execution_count": null,
      "outputs": []
    },
    {
      "cell_type": "code",
      "metadata": {
        "id": "01m5kuqmoa2E",
        "colab_type": "code",
        "colab": {}
      },
      "source": [
        "type(df_can[['Country',1980,1981]])"
      ],
      "execution_count": null,
      "outputs": []
    },
    {
      "cell_type": "code",
      "metadata": {
        "id": "uuj6VKRPoegH",
        "colab_type": "code",
        "colab": {}
      },
      "source": [
        "df_can['Continent']"
      ],
      "execution_count": null,
      "outputs": []
    },
    {
      "cell_type": "code",
      "metadata": {
        "id": "p2w5QzkIpHd0",
        "colab_type": "code",
        "colab": {}
      },
      "source": [
        "df_can.index"
      ],
      "execution_count": null,
      "outputs": []
    },
    {
      "cell_type": "code",
      "metadata": {
        "id": "NjYEXKBnojv_",
        "colab_type": "code",
        "colab": {}
      },
      "source": [
        "df_can.set_index('Country', inplace=True)\n",
        "\n",
        "df_can.head()"
      ],
      "execution_count": null,
      "outputs": []
    },
    {
      "cell_type": "code",
      "metadata": {
        "id": "Za4IkvdFpU_J",
        "colab_type": "code",
        "colab": {}
      },
      "source": [
        "df_can.loc['India']"
      ],
      "execution_count": null,
      "outputs": []
    },
    {
      "cell_type": "code",
      "metadata": {
        "id": "iXITz9Tsp6eZ",
        "colab_type": "code",
        "colab": {}
      },
      "source": [
        "df_can.iloc[87]"
      ],
      "execution_count": null,
      "outputs": []
    },
    {
      "cell_type": "code",
      "metadata": {
        "id": "a33lqVPRpg3b",
        "colab_type": "code",
        "colab": {}
      },
      "source": [
        "df_can.loc['India',1980]"
      ],
      "execution_count": null,
      "outputs": []
    },
    {
      "cell_type": "code",
      "metadata": {
        "id": "OKUlQ_CaqHL0",
        "colab_type": "code",
        "colab": {}
      },
      "source": [
        "df_can.iloc[1,1]"
      ],
      "execution_count": null,
      "outputs": []
    },
    {
      "cell_type": "code",
      "metadata": {
        "id": "76SgQuooqNqd",
        "colab_type": "code",
        "colab": {}
      },
      "source": [
        "import matplotlib.pyplot as plt\n",
        "import matplotlib as mpl"
      ],
      "execution_count": null,
      "outputs": []
    },
    {
      "cell_type": "code",
      "metadata": {
        "id": "Ahbsf0MDqblS",
        "colab_type": "code",
        "colab": {}
      },
      "source": [
        "years = range(1980,2014)\n",
        "india = df_can.loc['India',years]\n",
        "\n",
        "india.head()"
      ],
      "execution_count": null,
      "outputs": []
    },
    {
      "cell_type": "code",
      "metadata": {
        "id": "P1W1Gab8qtoc",
        "colab_type": "code",
        "colab": {}
      },
      "source": [
        "india.plot()"
      ],
      "execution_count": null,
      "outputs": []
    },
    {
      "cell_type": "code",
      "metadata": {
        "id": "FPA9YoAtrAyy",
        "colab_type": "code",
        "colab": {}
      },
      "source": [
        "years = range(1980,2014)\n",
        "india = df_can.loc['India',years]\n",
        "\n",
        "india.plot(\n",
        "    kind='line',\n",
        "    figsize=(10,10)\n",
        ")\n",
        "\n",
        "plt.title('Immigration to Canada from 1980 to 2013')\n",
        "plt.xlabel('Years')\n",
        "plt.ylabel('Number of immigrants')\n",
        "plt.text(1994,22000,\"Peak\")\n",
        "plt.show()"
      ],
      "execution_count": null,
      "outputs": []
    },
    {
      "cell_type": "code",
      "metadata": {
        "id": "xnIQm7ARrrY-",
        "colab_type": "code",
        "colab": {}
      },
      "source": [
        "years = range(1980,2014)\n",
        "indopak = df_can.loc[['India','Pakistan'],years]\n",
        "\n",
        "indopak1 = indopak.transpose()\n",
        "\n",
        "indopak1\n",
        "\n",
        "indopak1.plot(\n",
        "    kind='line',\n",
        "    figsize=(10,10)\n",
        ")\n",
        "\n",
        "plt.title('Immigration to Canada from India and Pakistan 1980 to 2013')\n",
        "plt.xlabel('Years')\n",
        "plt.ylabel('Number of immigrants')\n",
        "plt.text(1994,22000,\"Peak\")\n",
        "plt.show()"
      ],
      "execution_count": null,
      "outputs": []
    },
    {
      "cell_type": "code",
      "metadata": {
        "id": "IUV7lYMktL2C",
        "colab_type": "code",
        "colab": {}
      },
      "source": [
        "# top 5 countries\n",
        "\n",
        "df_can.sort_values(by='Total', ascending=False, inplace=True, axis='index')\n",
        "\n",
        "df_can.head()\n",
        "\n",
        "dftop = df_can.head(5)\n",
        "\n",
        "dftop\n",
        "\n",
        "dftop = dftop[years]\n",
        "\n",
        "dftop1 = dftop.transpose()\n",
        "\n",
        "\n",
        "dftop1.plot(\n",
        "    kind='line',\n",
        "    figsize=(10,10)\n",
        ")\n",
        "\n",
        "plt.title('Immigration to Canada from Top Five nations 1980 to 2013')\n",
        "plt.xlabel('Years')\n",
        "plt.ylabel('Number of immigrants')\n",
        "plt.show()"
      ],
      "execution_count": null,
      "outputs": []
    },
    {
      "cell_type": "code",
      "metadata": {
        "id": "XPE_2AjrutaJ",
        "colab_type": "code",
        "colab": {}
      },
      "source": [
        "# top 5 countries\n",
        "\n",
        "df_can.sort_values(by='Total', ascending=True, inplace=True, axis='index')\n",
        "\n",
        "df_can.head()\n",
        "\n",
        "dftop = df_can.head(5)\n",
        "\n",
        "dftop\n",
        "\n",
        "dftop = dftop[years]\n",
        "\n",
        "dftop1 = dftop.transpose()\n",
        "\n",
        "\n",
        "dftop1.plot(\n",
        "    kind='line',\n",
        "    figsize=(10,10)\n",
        ")\n",
        "\n",
        "plt.title('Immigration to Canada from Bottom Five nations 1980 to 2013')\n",
        "plt.xlabel('Years')\n",
        "plt.ylabel('Number of immigrants')\n",
        "plt.show()"
      ],
      "execution_count": null,
      "outputs": []
    },
    {
      "cell_type": "code",
      "metadata": {
        "id": "c3bfLEaDu9m1",
        "colab_type": "code",
        "colab": {}
      },
      "source": [
        "#When to use line charts\n",
        "#data is time series \n",
        "\n",
        "\n",
        "#Top 5 Asian countries immigrants to canada\n",
        "\n",
        "df_can.sort_values(by='Total',axis='index',inplace=True,ascending=True)\n",
        " \n",
        "dfbot5=df_can.head(5)\n",
        " \n",
        "dfbot5=dfbot5[years]\n",
        " \n",
        "dfbot5=dfbot5.transpose()\n",
        " \n",
        "dfbot5.plot(\n",
        "    kind='box',\n",
        "    figsize=(10,10),\n",
        "    color='blue',\n",
        "    vert=False\n",
        ")\n",
        " \n",
        "plt.title(\"Bottom five countries sending immigrants to canada from 1980-2013\")\n",
        "plt.ylabel('Number of immigrants')\n",
        "plt.show()"
      ],
      "execution_count": null,
      "outputs": []
    },
    {
      "cell_type": "markdown",
      "metadata": {
        "id": "aqMJPmAbvWm4",
        "colab_type": "text"
      },
      "source": [
        "#Part-2"
      ]
    },
    {
      "cell_type": "code",
      "metadata": {
        "id": "T3rFoYKhvX7j",
        "colab_type": "code",
        "colab": {}
      },
      "source": [
        "# top 5 countries\n",
        "\n",
        "df_can.sort_values(by='Total', ascending=False, inplace=True, axis='index')\n",
        "\n",
        "df_can.head()\n",
        "\n",
        "dftop = df_can.head(5)\n",
        "\n",
        "dftop\n",
        "\n",
        "dftop = dftop[years]\n",
        "\n",
        "dftop1 = dftop.transpose()\n",
        "\n",
        "\n",
        "dftop1.plot(\n",
        "    kind='area',\n",
        "    figsize=(10,10)\n",
        ")\n",
        "plt.title('Immigration to Canada from Top Five nations 1980 to 2013')\n",
        "plt.xlabel('Years')\n",
        "plt.ylabel('Number of immigrants')\n",
        "plt.show()"
      ],
      "execution_count": null,
      "outputs": []
    },
    {
      "cell_type": "code",
      "metadata": {
        "id": "RnfhoIw9wacG",
        "colab_type": "code",
        "colab": {}
      },
      "source": [
        "dftop1.plot(\n",
        "    kind='area',\n",
        "    figsize=(10,10),\n",
        "    stacked=False\n",
        ")\n",
        "plt.title('Immigration to Canada from Top Five nations 1980 to 2013')\n",
        "plt.xlabel('Years')\n",
        "plt.ylabel('Number of immigrants')\n",
        "plt.show()"
      ],
      "execution_count": null,
      "outputs": []
    },
    {
      "cell_type": "code",
      "metadata": {
        "id": "hpUjUJyYwq4M",
        "colab_type": "code",
        "colab": {}
      },
      "source": [
        "dftop1.plot(\n",
        "    kind='area',\n",
        "    figsize=(10,10),\n",
        "    stacked=False,\n",
        "    alpha=0.25   #for transparency - range is 0-1, default is 0.5\n",
        ")\n",
        "plt.title('Immigration to Canada from Top Five nations 1980 to 2013')\n",
        "plt.xlabel('Years')\n",
        "plt.ylabel('Number of immigrants')\n",
        "plt.show()"
      ],
      "execution_count": null,
      "outputs": []
    },
    {
      "cell_type": "code",
      "metadata": {
        "id": "GNxd4T8bxQn8",
        "colab_type": "code",
        "colab": {}
      },
      "source": [
        "dftop1.plot(\n",
        "    kind='area',\n",
        "    figsize=(10,10),\n",
        "    stacked=False,\n",
        "    alpha=0.75   #for transparency - range is 0-1, default is 0.5\n",
        ")\n",
        "plt.title('Immigration to Canada from Top Five nations 1980 to 2013')\n",
        "plt.xlabel('Years')\n",
        "plt.ylabel('Number of immigrants')\n",
        "plt.show()"
      ],
      "execution_count": null,
      "outputs": []
    },
    {
      "cell_type": "markdown",
      "metadata": {
        "id": "4uWGThyj6-LC",
        "colab_type": "text"
      },
      "source": [
        "# Plot-3"
      ]
    },
    {
      "cell_type": "code",
      "metadata": {
        "id": "gFTBefpSxv7G",
        "colab_type": "code",
        "colab": {}
      },
      "source": [
        "#histograms\n",
        "\n",
        "df_can[2013].head()\n",
        "\n",
        "count, bins = np.histogram(df_can[2013])\n",
        "\n",
        "print(count)\n",
        "print(bins)"
      ],
      "execution_count": null,
      "outputs": []
    },
    {
      "cell_type": "code",
      "metadata": {
        "id": "rCzhtagAyVQk",
        "colab_type": "code",
        "colab": {}
      },
      "source": [
        "df_can[2013].plot(\n",
        "    kind='hist',\n",
        "    figsize=(10,10)\n",
        ")\n",
        "\n",
        "plt.title('Histogram of Immigration to Canada in 2013 from 195 countries')\n",
        "plt.xlabel('Number of immigrants')\n",
        "plt.ylabel('Number of countries')\n",
        "plt.show()"
      ],
      "execution_count": null,
      "outputs": []
    },
    {
      "cell_type": "code",
      "metadata": {
        "id": "KNEycCd-y1oe",
        "colab_type": "code",
        "colab": {}
      },
      "source": [
        "count, bins = np.histogram(df_can[2013])\n",
        "\n",
        "df_can[2013].plot(\n",
        "    kind='hist',\n",
        "    figsize=(10,10),\n",
        "    xticks=bins\n",
        ")\n",
        "\n",
        "plt.title('Histogram of Immigration to Canada in 2013 from 195 countries')\n",
        "plt.xlabel('Number of immigrants')\n",
        "plt.ylabel('Number of countries')\n",
        "plt.show()"
      ],
      "execution_count": null,
      "outputs": []
    },
    {
      "cell_type": "code",
      "metadata": {
        "id": "STORaJzjzYkF",
        "colab_type": "code",
        "colab": {}
      },
      "source": [
        "count, bins = np.histogram(df_can[2013])\n",
        "\n",
        "df_can[2013].plot(\n",
        "    kind='hist',\n",
        "    figsize=(10,10),\n",
        "    xticks=bins\n",
        ")\n",
        "\n",
        "plt.title('Histogram of Immigration to Canada in 2013 from 195 countries')\n",
        "plt.xlabel('Number of immigrants')\n",
        "plt.ylabel('Number of countries')\n",
        "plt.show()"
      ],
      "execution_count": null,
      "outputs": []
    },
    {
      "cell_type": "markdown",
      "metadata": {
        "id": "D__xylaL0Anc",
        "colab_type": "text"
      },
      "source": [
        "#Part-4"
      ]
    },
    {
      "cell_type": "code",
      "metadata": {
        "id": "HoN6mq0t0B7U",
        "colab_type": "code",
        "colab": {}
      },
      "source": [
        "years = range(1980,2014)\n",
        "df_india = df_can.loc['India', years]\n",
        "\n",
        "df_india.plot(\n",
        "    kind='bar',\n",
        "    figsize=(10,10)\n",
        ")\n",
        "\n",
        "plt.title('Immigration to Canada 1980-2013 from India')\n",
        "plt.xlabel('Years')\n",
        "plt.ylabel('Number of immigrants')\n",
        "plt.show()"
      ],
      "execution_count": null,
      "outputs": []
    },
    {
      "cell_type": "code",
      "metadata": {
        "id": "vmdUMRAi0zOu",
        "colab_type": "code",
        "colab": {}
      },
      "source": [
        "years = range(1980,2014)\n",
        "df_india = df_can.loc['India', years]\n",
        "\n",
        "df_india.plot(\n",
        "    kind='bar',\n",
        "    figsize=(10,10)\n",
        ")\n",
        "\n",
        "plt.title('Immigration to Canada 1980-2013 from India')\n",
        "plt.xlabel('Years')\n",
        "plt.ylabel('Number of immigrants')\n",
        "\n",
        "plt.annotate(\n",
        "    'IT Boom in Canada',\n",
        "     xy=(17,28000),\n",
        "     rotation = 45,\n",
        "     va='top',\n",
        "     ha='right'\n",
        ")\n",
        "\n",
        "plt.annotate(\n",
        "    '',\n",
        "     xy=(25,35000),\n",
        "     xytext=(13,22000),\n",
        "     xycoords='data',\n",
        "     arrowprops=dict(arrowstyle='->', color='blue')\n",
        "\n",
        ")\n",
        "\n",
        "\n",
        "plt.annotate(\n",
        "    'Recession in Canada', # text\n",
        "     xy=(5,12000), #pos of text\n",
        "     rotation = -35,\n",
        "     va='top',\n",
        "     ha='right'\n",
        ")\n",
        "\n",
        "plt.annotate(\n",
        "    '',\n",
        "     xy=(6,6000), #head of arrow\n",
        "     xytext=(1,10000), #base of arrow\n",
        "     xycoords='data',\n",
        "     arrowprops=dict(arrowstyle='->', color='red')\n",
        "\n",
        ")\n",
        "\n",
        "\n",
        "\n",
        "plt.show()"
      ],
      "execution_count": null,
      "outputs": []
    },
    {
      "cell_type": "code",
      "metadata": {
        "id": "fkQ8dyB_0g0i",
        "colab_type": "code",
        "colab": {}
      },
      "source": [
        "years = range(1980,2014)\n",
        "df_india = df_can.loc['India', years]\n",
        "\n",
        "df_india.plot(\n",
        "    kind='barh',\n",
        "    figsize=(10,10)\n",
        ")\n",
        "\n",
        "plt.annotate(\n",
        "    'IT Boom in Canada',\n",
        "     xy=(30000,19),\n",
        "     rotation = 45,\n",
        "     va='top',\n",
        "     ha='right'\n",
        ")\n",
        "plt.annotate(\n",
        "    '',\n",
        "     xy=(35000,25),\n",
        "     xytext=(22000,13),\n",
        "     xycoords='data',\n",
        "     arrowprops=dict(arrowstyle='->', color='blue')\n",
        "\n",
        ")\n",
        "plt.annotate(\n",
        "    'Recession in Canada', # text\n",
        "     xy=(12000,5), #pos of text\n",
        "     rotation = -35,\n",
        "     va='top',\n",
        "     ha='right'\n",
        ")\n",
        "plt.annotate(\n",
        "    '',\n",
        "     xy=(4000,5), #head of arrow\n",
        "     xytext=(12000,1), #base of arrow\n",
        "     xycoords='data',\n",
        "     arrowprops=dict(arrowstyle='->', color='red')\n",
        ")\n",
        "\n",
        "plt.title('Immigration to Canada 1980-2013 from India')\n",
        "plt.ylabel('Years')\n",
        "plt.xlabel('Number of immigrants')\n",
        "plt.show()"
      ],
      "execution_count": null,
      "outputs": []
    },
    {
      "cell_type": "code",
      "metadata": {
        "id": "NSX-E44X6fn3",
        "colab_type": "code",
        "colab": {}
      },
      "source": [
        "#top 15 countries\n",
        "years =range(2009,2014)\n",
        "\n",
        "top5 = df_can.head(5)\n",
        "\n",
        "top5[years].plot(\n",
        "    kind='bar',\n",
        "    figsize=(25,10)\n",
        ")"
      ],
      "execution_count": null,
      "outputs": []
    },
    {
      "cell_type": "code",
      "metadata": {
        "id": "tGShc0EG7qre",
        "colab_type": "code",
        "colab": {}
      },
      "source": [
        "years = range(1981,2014)\n",
        "df_can['Total-1981-2013'] = df_can[years].sum(axis='columns')\n",
        "df_can.head()"
      ],
      "execution_count": null,
      "outputs": []
    },
    {
      "cell_type": "markdown",
      "metadata": {
        "id": "L0m0DaKDVwGR",
        "colab_type": "text"
      },
      "source": [
        "**Assignment: Which two countries have the same immigration trends?**"
      ]
    },
    {
      "cell_type": "code",
      "metadata": {
        "id": "AAAsr0dCVvEV",
        "colab_type": "code",
        "colab": {}
      },
      "source": [
        "df_can.head()"
      ],
      "execution_count": null,
      "outputs": []
    },
    {
      "cell_type": "code",
      "metadata": {
        "id": "hKpRUYxQWqQC",
        "colab_type": "code",
        "colab": {}
      },
      "source": [
        "df_can['Mean']=df_can['Total']/14\n",
        "df_can.head()"
      ],
      "execution_count": null,
      "outputs": []
    },
    {
      "cell_type": "code",
      "metadata": {
        "id": "1JdujmpEWwUo",
        "colab_type": "code",
        "colab": {}
      },
      "source": [
        "df1=df_can[(df_can['Continent']=='Asia')]"
      ],
      "execution_count": null,
      "outputs": []
    },
    {
      "cell_type": "code",
      "metadata": {
        "id": "4Bk-ivJQW1rq",
        "colab_type": "code",
        "colab": {}
      },
      "source": [
        "import statistics \n",
        "mean_asia=df1[\"Total\"].sum(axis=0)/df1.shape[0]\n",
        "mean_asia\n",
        "std_asia=statistics.stdev(df1[\"Total\"])\n",
        "print(std_asia)"
      ],
      "execution_count": null,
      "outputs": []
    },
    {
      "cell_type": "code",
      "metadata": {
        "id": "fGh7lImpXQYa",
        "colab_type": "code",
        "colab": {}
      },
      "source": [
        "df1.describe()"
      ],
      "execution_count": null,
      "outputs": []
    },
    {
      "cell_type": "code",
      "metadata": {
        "id": "Q0E8zRT_XXwk",
        "colab_type": "code",
        "colab": {}
      },
      "source": [
        "df2=df1[ (df1['Total']<(mean_asia+std_asia)) & (df1['Total']>abs(mean_asia-std_asia))]\n",
        "df2"
      ],
      "execution_count": null,
      "outputs": []
    },
    {
      "cell_type": "code",
      "metadata": {
        "id": "ntjRHQKMXgn9",
        "colab_type": "code",
        "colab": {}
      },
      "source": [
        "years = range(1980,2014)\n",
        "df2[years].plot(\n",
        "    kind='bar',\n",
        "    figsize=(20,10)\n",
        ")"
      ],
      "execution_count": null,
      "outputs": []
    },
    {
      "cell_type": "code",
      "metadata": {
        "id": "yw9DzPo8Xqtj",
        "colab_type": "code",
        "colab": {}
      },
      "source": [
        "df2 = df2[years]\n",
        "\n",
        "df3 = df2.transpose()\n",
        "\n",
        "df3.plot(\n",
        "    kind='line',\n",
        "    figsize=(20,10),#stacked=False,\n",
        "    #alpha=0.25\n",
        "    )\n",
        "\n",
        "plt.title('Immigration to Canada from Similar Countries in Asia')\n",
        "plt.xlabel('Years')\n",
        "plt.ylabel('Number of immigrants')\n",
        "plt.show()"
      ],
      "execution_count": null,
      "outputs": []
    },
    {
      "cell_type": "markdown",
      "metadata": {
        "id": "36fwswcaX5U2",
        "colab_type": "text"
      },
      "source": [
        "**Inference**\n",
        "\n",
        "The Data pertaining to Asia was filtered into df2 where all the Asian countries that were close to the mean of Number of Immigrants in Asia.\n",
        "\n",
        "The countries consisting of average amount of immigrants are :  Iran,Lebanon,Republic of Korea,Vietnam,Sri Lanka\n",
        "\n",
        "Iran and Republic of Korea followed similar trend.\n",
        "\n",
        "Lebanon and Sri Lanka also followed the same trend and experienced a substantial hike in the number of immigrants around 1990."
      ]
    }
  ]
}