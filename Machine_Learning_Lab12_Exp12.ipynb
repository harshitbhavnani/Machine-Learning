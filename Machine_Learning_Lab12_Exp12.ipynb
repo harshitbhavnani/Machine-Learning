{
  "nbformat": 4,
  "nbformat_minor": 0,
  "metadata": {
    "colab": {
      "name": "Machine Learning | Lab 12 | Exp 12.ipynb",
      "provenance": [],
      "collapsed_sections": [],
      "toc_visible": true,
      "authorship_tag": "ABX9TyProL2Zbqv/Z+1XoktyR0+V",
      "include_colab_link": true
    },
    "kernelspec": {
      "name": "python3",
      "display_name": "Python 3"
    }
  },
  "cells": [
    {
      "cell_type": "markdown",
      "metadata": {
        "id": "view-in-github",
        "colab_type": "text"
      },
      "source": [
        "<a href=\"https://colab.research.google.com/github/harshitbhavnani/Machine-Learning/blob/master/Machine_Learning_Lab12_Exp12.ipynb\" target=\"_parent\"><img src=\"https://colab.research.google.com/assets/colab-badge.svg\" alt=\"Open In Colab\"/></a>"
      ]
    },
    {
      "cell_type": "markdown",
      "metadata": {
        "id": "vghvaslZn3nd"
      },
      "source": [
        "# **Name: Harshit Bhavnani**\n",
        "**Roll No: J076**\n",
        "\n",
        "**Experiment / Lab: 12**"
      ]
    },
    {
      "cell_type": "code",
      "metadata": {
        "id": "YKaoNrGpnuoE",
        "outputId": "c6dab64f-fd00-4024-edc6-eb44855d7913",
        "colab": {
          "base_uri": "https://localhost:8080/"
        }
      },
      "source": [
        "import numpy as np\n",
        "import pandas as pd\n",
        "import matplotlib.pyplot as plt\n",
        "%matplotlib inline\n",
        "import seaborn as sns\n",
        "\n",
        "!wget -O AirQualityUCI.zip https://archive.ics.uci.edu/ml/machine-learning-databases/00360/AirQualityUCI.zip\n",
        "!unzip AirQualityUCI.zip\n",
        "df = pd.read_excel('/content/AirQualityUCI.xlsx', parse_dates=[['Date', 'Time']])\n",
        "df.replace(to_replace=-200.0, value=0.0, inplace=True)\n",
        "wv = df['NMHC(GT)']\n",
        "bad_wv = wv == -200.0\n",
        "wv[bad_wv] = 0.0"
      ],
      "execution_count": 81,
      "outputs": [
        {
          "output_type": "stream",
          "text": [
            "y\n",
            "--2020-11-01 17:29:28--  https://archive.ics.uci.edu/ml/machine-learning-databases/00360/AirQualityUCI.zip\n",
            "Resolving archive.ics.uci.edu (archive.ics.uci.edu)... 128.195.10.252\n",
            "Connecting to archive.ics.uci.edu (archive.ics.uci.edu)|128.195.10.252|:443... connected.\n",
            "HTTP request sent, awaiting response... 200 OK\n",
            "Length: 1543989 (1.5M) [application/x-httpd-php]\n",
            "Saving to: ‘AirQualityUCI.zip’\n",
            "\n",
            "AirQualityUCI.zip   100%[===================>]   1.47M  3.78MB/s    in 0.4s    \n",
            "\n",
            "2020-11-01 17:29:28 (3.78 MB/s) - ‘AirQualityUCI.zip’ saved [1543989/1543989]\n",
            "\n",
            "Archive:  AirQualityUCI.zip\n",
            "replace AirQualityUCI.csv? [y]es, [n]o, [A]ll, [N]one, [r]ename: y\n",
            "  inflating: AirQualityUCI.csv       \n",
            "replace AirQualityUCI.xlsx? [y]es, [n]o, [A]ll, [N]one, [r]ename: y\n",
            "  inflating: AirQualityUCI.xlsx      \n"
          ],
          "name": "stdout"
        },
        {
          "output_type": "stream",
          "text": [
            "/usr/local/lib/python3.6/dist-packages/ipykernel_launcher.py:13: SettingWithCopyWarning: \n",
            "A value is trying to be set on a copy of a slice from a DataFrame\n",
            "\n",
            "See the caveats in the documentation: https://pandas.pydata.org/pandas-docs/stable/user_guide/indexing.html#returning-a-view-versus-a-copy\n",
            "  del sys.path[0]\n"
          ],
          "name": "stderr"
        }
      ]
    },
    {
      "cell_type": "code",
      "metadata": {
        "id": "Cw-TK7lhoH6K",
        "outputId": "71a2fbce-9d13-4719-f475-0397eda8c970",
        "colab": {
          "base_uri": "https://localhost:8080/",
          "height": 35
        }
      },
      "source": [
        "y = 'NO2(GT)'\n",
        "y"
      ],
      "execution_count": 82,
      "outputs": [
        {
          "output_type": "execute_result",
          "data": {
            "application/vnd.google.colaboratory.intrinsic+json": {
              "type": "string"
            },
            "text/plain": [
              "'NO2(GT)'"
            ]
          },
          "metadata": {
            "tags": []
          },
          "execution_count": 82
        }
      ]
    },
    {
      "cell_type": "code",
      "metadata": {
        "id": "LFp3rFWgoIAN",
        "outputId": "1c31eaef-2c70-433f-a4e7-ed06e42d0a3b",
        "colab": {
          "base_uri": "https://localhost:8080/"
        }
      },
      "source": [
        "df.isnull().sum()"
      ],
      "execution_count": 83,
      "outputs": [
        {
          "output_type": "execute_result",
          "data": {
            "text/plain": [
              "Date_Time        0\n",
              "CO(GT)           0\n",
              "PT08.S1(CO)      0\n",
              "NMHC(GT)         0\n",
              "C6H6(GT)         0\n",
              "PT08.S2(NMHC)    0\n",
              "NOx(GT)          0\n",
              "PT08.S3(NOx)     0\n",
              "NO2(GT)          0\n",
              "PT08.S4(NO2)     0\n",
              "PT08.S5(O3)      0\n",
              "T                0\n",
              "RH               0\n",
              "AH               0\n",
              "dtype: int64"
            ]
          },
          "metadata": {
            "tags": []
          },
          "execution_count": 83
        }
      ]
    },
    {
      "cell_type": "code",
      "metadata": {
        "id": "SPLVzfLFoIG9",
        "outputId": "dc21dd6b-55a7-4300-cd63-7431a1febdb8",
        "colab": {
          "base_uri": "https://localhost:8080/"
        }
      },
      "source": [
        "df.info()"
      ],
      "execution_count": 84,
      "outputs": [
        {
          "output_type": "stream",
          "text": [
            "<class 'pandas.core.frame.DataFrame'>\n",
            "RangeIndex: 9357 entries, 0 to 9356\n",
            "Data columns (total 14 columns):\n",
            " #   Column         Non-Null Count  Dtype         \n",
            "---  ------         --------------  -----         \n",
            " 0   Date_Time      9357 non-null   datetime64[ns]\n",
            " 1   CO(GT)         9357 non-null   float64       \n",
            " 2   PT08.S1(CO)    9357 non-null   float64       \n",
            " 3   NMHC(GT)       9357 non-null   int64         \n",
            " 4   C6H6(GT)       9357 non-null   float64       \n",
            " 5   PT08.S2(NMHC)  9357 non-null   float64       \n",
            " 6   NOx(GT)        9357 non-null   float64       \n",
            " 7   PT08.S3(NOx)   9357 non-null   float64       \n",
            " 8   NO2(GT)        9357 non-null   float64       \n",
            " 9   PT08.S4(NO2)   9357 non-null   float64       \n",
            " 10  PT08.S5(O3)    9357 non-null   float64       \n",
            " 11  T              9357 non-null   float64       \n",
            " 12  RH             9357 non-null   float64       \n",
            " 13  AH             9357 non-null   float64       \n",
            "dtypes: datetime64[ns](1), float64(12), int64(1)\n",
            "memory usage: 1023.5 KB\n"
          ],
          "name": "stdout"
        }
      ]
    },
    {
      "cell_type": "code",
      "metadata": {
        "id": "U6mw7p65rfPH",
        "outputId": "87728a7b-01de-4c1f-ad7b-5576d19391d2",
        "colab": {
          "base_uri": "https://localhost:8080/",
          "height": 452
        }
      },
      "source": [
        "df.corr()[[y]]"
      ],
      "execution_count": 85,
      "outputs": [
        {
          "output_type": "execute_result",
          "data": {
            "text/html": [
              "<div>\n",
              "<style scoped>\n",
              "    .dataframe tbody tr th:only-of-type {\n",
              "        vertical-align: middle;\n",
              "    }\n",
              "\n",
              "    .dataframe tbody tr th {\n",
              "        vertical-align: top;\n",
              "    }\n",
              "\n",
              "    .dataframe thead th {\n",
              "        text-align: right;\n",
              "    }\n",
              "</style>\n",
              "<table border=\"1\" class=\"dataframe\">\n",
              "  <thead>\n",
              "    <tr style=\"text-align: right;\">\n",
              "      <th></th>\n",
              "      <th>NO2(GT)</th>\n",
              "    </tr>\n",
              "  </thead>\n",
              "  <tbody>\n",
              "    <tr>\n",
              "      <th>CO(GT)</th>\n",
              "      <td>0.723154</td>\n",
              "    </tr>\n",
              "    <tr>\n",
              "      <th>PT08.S1(CO)</th>\n",
              "      <td>0.284508</td>\n",
              "    </tr>\n",
              "    <tr>\n",
              "      <th>NMHC(GT)</th>\n",
              "      <td>0.099541</td>\n",
              "    </tr>\n",
              "    <tr>\n",
              "      <th>C6H6(GT)</th>\n",
              "      <td>0.402581</td>\n",
              "    </tr>\n",
              "    <tr>\n",
              "      <th>PT08.S2(NMHC)</th>\n",
              "      <td>0.334108</td>\n",
              "    </tr>\n",
              "    <tr>\n",
              "      <th>NOx(GT)</th>\n",
              "      <td>0.795888</td>\n",
              "    </tr>\n",
              "    <tr>\n",
              "      <th>PT08.S3(NOx)</th>\n",
              "      <td>-0.440202</td>\n",
              "    </tr>\n",
              "    <tr>\n",
              "      <th>NO2(GT)</th>\n",
              "      <td>1.000000</td>\n",
              "    </tr>\n",
              "    <tr>\n",
              "      <th>PT08.S4(NO2)</th>\n",
              "      <td>0.010185</td>\n",
              "    </tr>\n",
              "    <tr>\n",
              "      <th>PT08.S5(O3)</th>\n",
              "      <td>0.439057</td>\n",
              "    </tr>\n",
              "    <tr>\n",
              "      <th>T</th>\n",
              "      <td>-0.195697</td>\n",
              "    </tr>\n",
              "    <tr>\n",
              "      <th>RH</th>\n",
              "      <td>-0.125245</td>\n",
              "    </tr>\n",
              "    <tr>\n",
              "      <th>AH</th>\n",
              "      <td>-0.324221</td>\n",
              "    </tr>\n",
              "  </tbody>\n",
              "</table>\n",
              "</div>"
            ],
            "text/plain": [
              "                NO2(GT)\n",
              "CO(GT)         0.723154\n",
              "PT08.S1(CO)    0.284508\n",
              "NMHC(GT)       0.099541\n",
              "C6H6(GT)       0.402581\n",
              "PT08.S2(NMHC)  0.334108\n",
              "NOx(GT)        0.795888\n",
              "PT08.S3(NOx)  -0.440202\n",
              "NO2(GT)        1.000000\n",
              "PT08.S4(NO2)   0.010185\n",
              "PT08.S5(O3)    0.439057\n",
              "T             -0.195697\n",
              "RH            -0.125245\n",
              "AH            -0.324221"
            ]
          },
          "metadata": {
            "tags": []
          },
          "execution_count": 85
        }
      ]
    },
    {
      "cell_type": "code",
      "metadata": {
        "id": "DiGBatx1oIP0"
      },
      "source": [
        "df = df[['CO(GT)', 'PT08.S1(CO)', 'NMHC(GT)','PT08.S2(NMHC)', 'NOx(GT)','NO2(GT)','PT08.S5(O3)']]"
      ],
      "execution_count": 86,
      "outputs": []
    },
    {
      "cell_type": "code",
      "metadata": {
        "id": "6aGWyK-QoIV5",
        "outputId": "6bdb19cc-da5e-4d6e-aae2-deb1344a5b3a",
        "colab": {
          "base_uri": "https://localhost:8080/",
          "height": 204
        }
      },
      "source": [
        "df.head()"
      ],
      "execution_count": 87,
      "outputs": [
        {
          "output_type": "execute_result",
          "data": {
            "text/html": [
              "<div>\n",
              "<style scoped>\n",
              "    .dataframe tbody tr th:only-of-type {\n",
              "        vertical-align: middle;\n",
              "    }\n",
              "\n",
              "    .dataframe tbody tr th {\n",
              "        vertical-align: top;\n",
              "    }\n",
              "\n",
              "    .dataframe thead th {\n",
              "        text-align: right;\n",
              "    }\n",
              "</style>\n",
              "<table border=\"1\" class=\"dataframe\">\n",
              "  <thead>\n",
              "    <tr style=\"text-align: right;\">\n",
              "      <th></th>\n",
              "      <th>CO(GT)</th>\n",
              "      <th>PT08.S1(CO)</th>\n",
              "      <th>NMHC(GT)</th>\n",
              "      <th>PT08.S2(NMHC)</th>\n",
              "      <th>NOx(GT)</th>\n",
              "      <th>NO2(GT)</th>\n",
              "      <th>PT08.S5(O3)</th>\n",
              "    </tr>\n",
              "  </thead>\n",
              "  <tbody>\n",
              "    <tr>\n",
              "      <th>0</th>\n",
              "      <td>2.6</td>\n",
              "      <td>1360.00</td>\n",
              "      <td>150</td>\n",
              "      <td>1045.50</td>\n",
              "      <td>166.0</td>\n",
              "      <td>113.0</td>\n",
              "      <td>1267.50</td>\n",
              "    </tr>\n",
              "    <tr>\n",
              "      <th>1</th>\n",
              "      <td>2.0</td>\n",
              "      <td>1292.25</td>\n",
              "      <td>112</td>\n",
              "      <td>954.75</td>\n",
              "      <td>103.0</td>\n",
              "      <td>92.0</td>\n",
              "      <td>972.25</td>\n",
              "    </tr>\n",
              "    <tr>\n",
              "      <th>2</th>\n",
              "      <td>2.2</td>\n",
              "      <td>1402.00</td>\n",
              "      <td>88</td>\n",
              "      <td>939.25</td>\n",
              "      <td>131.0</td>\n",
              "      <td>114.0</td>\n",
              "      <td>1074.00</td>\n",
              "    </tr>\n",
              "    <tr>\n",
              "      <th>3</th>\n",
              "      <td>2.2</td>\n",
              "      <td>1375.50</td>\n",
              "      <td>80</td>\n",
              "      <td>948.25</td>\n",
              "      <td>172.0</td>\n",
              "      <td>122.0</td>\n",
              "      <td>1203.25</td>\n",
              "    </tr>\n",
              "    <tr>\n",
              "      <th>4</th>\n",
              "      <td>1.6</td>\n",
              "      <td>1272.25</td>\n",
              "      <td>51</td>\n",
              "      <td>835.50</td>\n",
              "      <td>131.0</td>\n",
              "      <td>116.0</td>\n",
              "      <td>1110.00</td>\n",
              "    </tr>\n",
              "  </tbody>\n",
              "</table>\n",
              "</div>"
            ],
            "text/plain": [
              "   CO(GT)  PT08.S1(CO)  NMHC(GT)  PT08.S2(NMHC)  NOx(GT)  NO2(GT)  PT08.S5(O3)\n",
              "0     2.6      1360.00       150        1045.50    166.0    113.0      1267.50\n",
              "1     2.0      1292.25       112         954.75    103.0     92.0       972.25\n",
              "2     2.2      1402.00        88         939.25    131.0    114.0      1074.00\n",
              "3     2.2      1375.50        80         948.25    172.0    122.0      1203.25\n",
              "4     1.6      1272.25        51         835.50    131.0    116.0      1110.00"
            ]
          },
          "metadata": {
            "tags": []
          },
          "execution_count": 87
        }
      ]
    },
    {
      "cell_type": "code",
      "metadata": {
        "id": "ZAxcfDoKoR4w"
      },
      "source": [
        "X = df.drop(y,axis=1)\n",
        "y = df[[y]]"
      ],
      "execution_count": 88,
      "outputs": []
    },
    {
      "cell_type": "code",
      "metadata": {
        "id": "Q_UCh7vWoIVA"
      },
      "source": [
        "from sklearn.model_selection import train_test_split\n",
        "x_train,x_test,y_train,y_test = train_test_split(X,y)\n",
        "value = y_test"
      ],
      "execution_count": 89,
      "outputs": []
    },
    {
      "cell_type": "code",
      "metadata": {
        "id": "iS7p7n0ToIPD",
        "outputId": "feb85af1-e40f-4346-b6a2-9629dad616e5",
        "colab": {
          "base_uri": "https://localhost:8080/"
        }
      },
      "source": [
        "print (x_train.shape)\n",
        "print (x_test.shape)\n",
        "print (y_train.shape)\n",
        "print (y_test.shape)"
      ],
      "execution_count": 90,
      "outputs": [
        {
          "output_type": "stream",
          "text": [
            "(7017, 6)\n",
            "(2340, 6)\n",
            "(7017, 1)\n",
            "(2340, 1)\n"
          ],
          "name": "stdout"
        }
      ]
    },
    {
      "cell_type": "code",
      "metadata": {
        "id": "JvRO87YRoIGR"
      },
      "source": [
        "from sklearn.preprocessing import MinMaxScaler\n",
        "scaler = MinMaxScaler()\n",
        "scaler.fit(x_train)\n",
        "x_train = scaler.fit_transform(x_train)\n",
        "scaler.fit(x_test)\n",
        "x_test = scaler.fit_transform(x_test)\n",
        "scaler.fit(y_train)\n",
        "y_train = scaler.fit_transform(y_train)\n",
        "scaler.fit(y_test)\n",
        "y_test = scaler.fit_transform(y_test)"
      ],
      "execution_count": 91,
      "outputs": []
    },
    {
      "cell_type": "code",
      "metadata": {
        "id": "f_AGJongoH_b",
        "outputId": "cdd78dbb-a9da-4cee-dea8-db0eb3322c26",
        "colab": {
          "base_uri": "https://localhost:8080/"
        }
      },
      "source": [
        "x_train = np.reshape(x_train, (x_train.shape[0],x_train.shape[1],1))\n",
        "x_test = np.reshape(x_test, (x_test.shape[0],x_test.shape[1],1))\n",
        "print (x_train.shape)\n",
        "print (x_test.shape)"
      ],
      "execution_count": 92,
      "outputs": [
        {
          "output_type": "stream",
          "text": [
            "(7017, 6, 1)\n",
            "(2340, 6, 1)\n"
          ],
          "name": "stdout"
        }
      ]
    },
    {
      "cell_type": "code",
      "metadata": {
        "id": "qc9YlXgOodD5",
        "outputId": "9077a2f4-0dd0-4630-e4b3-8e38d3818448",
        "colab": {
          "base_uri": "https://localhost:8080/"
        }
      },
      "source": [
        "print (y_train.shape)\n",
        "print (y_test.shape)"
      ],
      "execution_count": 93,
      "outputs": [
        {
          "output_type": "stream",
          "text": [
            "(7017, 1)\n",
            "(2340, 1)\n"
          ],
          "name": "stdout"
        }
      ]
    },
    {
      "cell_type": "code",
      "metadata": {
        "id": "8REwRpUpodKx"
      },
      "source": [
        "from keras.models import Sequential\n",
        "from keras.layers import Dense\n",
        "from keras.layers import LSTM\n",
        "from keras.layers import Dropout\n",
        "from keras.layers import Flatten\n",
        "def RNN_MODEL():\n",
        "    \n",
        "    regressor = Sequential()\n",
        "    regressor.add(LSTM(units = 50,return_sequences = True))\n",
        "    regressor.add(Dropout(0.2))\n",
        "    regressor.add(LSTM(units = 50,return_sequences = True))\n",
        "    regressor.add(Dropout(0.2))\n",
        "    regressor.add(LSTM(units = 50))\n",
        "    regressor.add(Dropout(0.2))\n",
        "    regressor.add(Dense(units = 1))\n",
        "    regressor.compile(optimizer = 'adam',loss = 'mean_squared_error',metrics=['accuracy'])\n",
        "    return regressor"
      ],
      "execution_count": 94,
      "outputs": []
    },
    {
      "cell_type": "code",
      "metadata": {
        "id": "3gp5J0gOodJo"
      },
      "source": [
        "regressor = RNN_MODEL()"
      ],
      "execution_count": 95,
      "outputs": []
    },
    {
      "cell_type": "code",
      "metadata": {
        "id": "RmAeItVeodC_",
        "outputId": "02f990d2-cd23-4a10-f7f7-edbd57ab9ab1",
        "colab": {
          "base_uri": "https://localhost:8080/"
        }
      },
      "source": [
        "regressor.fit(x_train,y_train,epochs = 100)"
      ],
      "execution_count": 96,
      "outputs": [
        {
          "output_type": "stream",
          "text": [
            "Epoch 1/100\n",
            "220/220 [==============================] - 2s 11ms/step - loss: 0.0251 - accuracy: 0.1759\n",
            "Epoch 2/100\n",
            "220/220 [==============================] - 2s 11ms/step - loss: 0.0219 - accuracy: 0.1757\n",
            "Epoch 3/100\n",
            "220/220 [==============================] - 2s 10ms/step - loss: 0.0198 - accuracy: 0.1756\n",
            "Epoch 4/100\n",
            "220/220 [==============================] - 2s 11ms/step - loss: 0.0179 - accuracy: 0.1756\n",
            "Epoch 5/100\n",
            "220/220 [==============================] - 2s 11ms/step - loss: 0.0165 - accuracy: 0.1753\n",
            "Epoch 6/100\n",
            "220/220 [==============================] - 2s 11ms/step - loss: 0.0160 - accuracy: 0.1756\n",
            "Epoch 7/100\n",
            "220/220 [==============================] - 2s 11ms/step - loss: 0.0154 - accuracy: 0.1754\n",
            "Epoch 8/100\n",
            "220/220 [==============================] - 2s 11ms/step - loss: 0.0151 - accuracy: 0.1753\n",
            "Epoch 9/100\n",
            "220/220 [==============================] - 2s 11ms/step - loss: 0.0145 - accuracy: 0.1757\n",
            "Epoch 10/100\n",
            "220/220 [==============================] - 2s 11ms/step - loss: 0.0139 - accuracy: 0.1759\n",
            "Epoch 11/100\n",
            "220/220 [==============================] - 2s 11ms/step - loss: 0.0130 - accuracy: 0.1760\n",
            "Epoch 12/100\n",
            "220/220 [==============================] - 2s 11ms/step - loss: 0.0120 - accuracy: 0.1760\n",
            "Epoch 13/100\n",
            "220/220 [==============================] - 3s 11ms/step - loss: 0.0115 - accuracy: 0.1760\n",
            "Epoch 14/100\n",
            "220/220 [==============================] - 2s 11ms/step - loss: 0.0110 - accuracy: 0.1760\n",
            "Epoch 15/100\n",
            "220/220 [==============================] - 2s 11ms/step - loss: 0.0107 - accuracy: 0.1760\n",
            "Epoch 16/100\n",
            "220/220 [==============================] - 2s 11ms/step - loss: 0.0098 - accuracy: 0.1760\n",
            "Epoch 17/100\n",
            "220/220 [==============================] - 2s 11ms/step - loss: 0.0094 - accuracy: 0.1760\n",
            "Epoch 18/100\n",
            "220/220 [==============================] - 2s 11ms/step - loss: 0.0086 - accuracy: 0.1760\n",
            "Epoch 19/100\n",
            "220/220 [==============================] - 2s 11ms/step - loss: 0.0082 - accuracy: 0.1760\n",
            "Epoch 20/100\n",
            "220/220 [==============================] - 2s 11ms/step - loss: 0.0078 - accuracy: 0.1760\n",
            "Epoch 21/100\n",
            "220/220 [==============================] - 2s 11ms/step - loss: 0.0073 - accuracy: 0.1760\n",
            "Epoch 22/100\n",
            "220/220 [==============================] - 2s 11ms/step - loss: 0.0069 - accuracy: 0.1760\n",
            "Epoch 23/100\n",
            "220/220 [==============================] - 2s 11ms/step - loss: 0.0068 - accuracy: 0.1760\n",
            "Epoch 24/100\n",
            "220/220 [==============================] - 2s 11ms/step - loss: 0.0068 - accuracy: 0.1760\n",
            "Epoch 25/100\n",
            "220/220 [==============================] - 3s 12ms/step - loss: 0.0066 - accuracy: 0.1760\n",
            "Epoch 26/100\n",
            "220/220 [==============================] - 2s 11ms/step - loss: 0.0064 - accuracy: 0.1760\n",
            "Epoch 27/100\n",
            "220/220 [==============================] - 2s 11ms/step - loss: 0.0064 - accuracy: 0.1760\n",
            "Epoch 28/100\n",
            "220/220 [==============================] - 2s 11ms/step - loss: 0.0062 - accuracy: 0.1760\n",
            "Epoch 29/100\n",
            "220/220 [==============================] - 2s 11ms/step - loss: 0.0060 - accuracy: 0.1760\n",
            "Epoch 30/100\n",
            "220/220 [==============================] - 2s 11ms/step - loss: 0.0062 - accuracy: 0.1760\n",
            "Epoch 31/100\n",
            "220/220 [==============================] - 2s 11ms/step - loss: 0.0060 - accuracy: 0.1760\n",
            "Epoch 32/100\n",
            "220/220 [==============================] - 2s 11ms/step - loss: 0.0061 - accuracy: 0.1760\n",
            "Epoch 33/100\n",
            "220/220 [==============================] - 2s 11ms/step - loss: 0.0061 - accuracy: 0.1760\n",
            "Epoch 34/100\n",
            "220/220 [==============================] - 2s 11ms/step - loss: 0.0060 - accuracy: 0.1760\n",
            "Epoch 35/100\n",
            "220/220 [==============================] - 2s 11ms/step - loss: 0.0058 - accuracy: 0.1760\n",
            "Epoch 36/100\n",
            "220/220 [==============================] - 2s 11ms/step - loss: 0.0058 - accuracy: 0.1760\n",
            "Epoch 37/100\n",
            "220/220 [==============================] - 2s 11ms/step - loss: 0.0058 - accuracy: 0.1760\n",
            "Epoch 38/100\n",
            "220/220 [==============================] - 2s 11ms/step - loss: 0.0058 - accuracy: 0.1760\n",
            "Epoch 39/100\n",
            "220/220 [==============================] - 2s 11ms/step - loss: 0.0057 - accuracy: 0.1760\n",
            "Epoch 40/100\n",
            "220/220 [==============================] - 2s 11ms/step - loss: 0.0058 - accuracy: 0.1760\n",
            "Epoch 41/100\n",
            "220/220 [==============================] - 2s 11ms/step - loss: 0.0057 - accuracy: 0.1760\n",
            "Epoch 42/100\n",
            "220/220 [==============================] - 2s 11ms/step - loss: 0.0056 - accuracy: 0.1760\n",
            "Epoch 43/100\n",
            "220/220 [==============================] - 2s 11ms/step - loss: 0.0057 - accuracy: 0.1760\n",
            "Epoch 44/100\n",
            "220/220 [==============================] - 2s 11ms/step - loss: 0.0056 - accuracy: 0.1760\n",
            "Epoch 45/100\n",
            "220/220 [==============================] - 2s 11ms/step - loss: 0.0056 - accuracy: 0.1760\n",
            "Epoch 46/100\n",
            "220/220 [==============================] - 2s 11ms/step - loss: 0.0055 - accuracy: 0.1760\n",
            "Epoch 47/100\n",
            "220/220 [==============================] - 2s 11ms/step - loss: 0.0056 - accuracy: 0.1760\n",
            "Epoch 48/100\n",
            "220/220 [==============================] - 2s 11ms/step - loss: 0.0056 - accuracy: 0.1760\n",
            "Epoch 49/100\n",
            "220/220 [==============================] - 2s 11ms/step - loss: 0.0055 - accuracy: 0.1760\n",
            "Epoch 50/100\n",
            "220/220 [==============================] - 2s 11ms/step - loss: 0.0055 - accuracy: 0.1760\n",
            "Epoch 51/100\n",
            "220/220 [==============================] - 2s 11ms/step - loss: 0.0055 - accuracy: 0.1760\n",
            "Epoch 52/100\n",
            "220/220 [==============================] - 2s 11ms/step - loss: 0.0055 - accuracy: 0.1760\n",
            "Epoch 53/100\n",
            "220/220 [==============================] - 2s 11ms/step - loss: 0.0054 - accuracy: 0.1760\n",
            "Epoch 54/100\n",
            "220/220 [==============================] - 2s 11ms/step - loss: 0.0054 - accuracy: 0.1760\n",
            "Epoch 55/100\n",
            "220/220 [==============================] - 3s 12ms/step - loss: 0.0054 - accuracy: 0.1760\n",
            "Epoch 56/100\n",
            "220/220 [==============================] - 2s 11ms/step - loss: 0.0054 - accuracy: 0.1760\n",
            "Epoch 57/100\n",
            "220/220 [==============================] - 2s 11ms/step - loss: 0.0054 - accuracy: 0.1760\n",
            "Epoch 58/100\n",
            "220/220 [==============================] - 2s 11ms/step - loss: 0.0053 - accuracy: 0.1760\n",
            "Epoch 59/100\n",
            "220/220 [==============================] - 2s 11ms/step - loss: 0.0053 - accuracy: 0.1760\n",
            "Epoch 60/100\n",
            "220/220 [==============================] - 2s 11ms/step - loss: 0.0053 - accuracy: 0.1760\n",
            "Epoch 61/100\n",
            "220/220 [==============================] - 2s 11ms/step - loss: 0.0053 - accuracy: 0.1760\n",
            "Epoch 62/100\n",
            "220/220 [==============================] - 2s 11ms/step - loss: 0.0053 - accuracy: 0.1760\n",
            "Epoch 63/100\n",
            "220/220 [==============================] - 2s 11ms/step - loss: 0.0053 - accuracy: 0.1760\n",
            "Epoch 64/100\n",
            "220/220 [==============================] - 2s 11ms/step - loss: 0.0052 - accuracy: 0.1760\n",
            "Epoch 65/100\n",
            "220/220 [==============================] - 2s 11ms/step - loss: 0.0052 - accuracy: 0.1760\n",
            "Epoch 66/100\n",
            "220/220 [==============================] - 2s 11ms/step - loss: 0.0053 - accuracy: 0.1760\n",
            "Epoch 67/100\n",
            "220/220 [==============================] - 2s 11ms/step - loss: 0.0053 - accuracy: 0.1760\n",
            "Epoch 68/100\n",
            "220/220 [==============================] - 2s 11ms/step - loss: 0.0052 - accuracy: 0.1760\n",
            "Epoch 69/100\n",
            "220/220 [==============================] - 2s 11ms/step - loss: 0.0051 - accuracy: 0.1760\n",
            "Epoch 70/100\n",
            "220/220 [==============================] - 2s 11ms/step - loss: 0.0051 - accuracy: 0.1760\n",
            "Epoch 71/100\n",
            "220/220 [==============================] - 2s 11ms/step - loss: 0.0052 - accuracy: 0.1760\n",
            "Epoch 72/100\n",
            "220/220 [==============================] - 2s 11ms/step - loss: 0.0051 - accuracy: 0.1760\n",
            "Epoch 73/100\n",
            "220/220 [==============================] - 2s 11ms/step - loss: 0.0052 - accuracy: 0.1760\n",
            "Epoch 74/100\n",
            "220/220 [==============================] - 2s 11ms/step - loss: 0.0051 - accuracy: 0.1760\n",
            "Epoch 75/100\n",
            "220/220 [==============================] - 2s 11ms/step - loss: 0.0051 - accuracy: 0.1760\n",
            "Epoch 76/100\n",
            "220/220 [==============================] - 3s 11ms/step - loss: 0.0051 - accuracy: 0.1760\n",
            "Epoch 77/100\n",
            "220/220 [==============================] - 2s 11ms/step - loss: 0.0050 - accuracy: 0.1760\n",
            "Epoch 78/100\n",
            "220/220 [==============================] - 2s 11ms/step - loss: 0.0050 - accuracy: 0.1760\n",
            "Epoch 79/100\n",
            "220/220 [==============================] - 2s 11ms/step - loss: 0.0050 - accuracy: 0.1760\n",
            "Epoch 80/100\n",
            "220/220 [==============================] - 2s 11ms/step - loss: 0.0049 - accuracy: 0.1760\n",
            "Epoch 81/100\n",
            "220/220 [==============================] - 2s 11ms/step - loss: 0.0049 - accuracy: 0.1760\n",
            "Epoch 82/100\n",
            "220/220 [==============================] - 2s 11ms/step - loss: 0.0049 - accuracy: 0.1760\n",
            "Epoch 83/100\n",
            "220/220 [==============================] - 3s 12ms/step - loss: 0.0050 - accuracy: 0.1760\n",
            "Epoch 84/100\n",
            "220/220 [==============================] - 2s 11ms/step - loss: 0.0049 - accuracy: 0.1760\n",
            "Epoch 85/100\n",
            "220/220 [==============================] - 2s 11ms/step - loss: 0.0049 - accuracy: 0.1760\n",
            "Epoch 86/100\n",
            "220/220 [==============================] - 2s 11ms/step - loss: 0.0049 - accuracy: 0.1760\n",
            "Epoch 87/100\n",
            "220/220 [==============================] - 2s 11ms/step - loss: 0.0048 - accuracy: 0.1760\n",
            "Epoch 88/100\n",
            "220/220 [==============================] - 2s 11ms/step - loss: 0.0048 - accuracy: 0.1760\n",
            "Epoch 89/100\n",
            "220/220 [==============================] - 2s 11ms/step - loss: 0.0048 - accuracy: 0.1760\n",
            "Epoch 90/100\n",
            "220/220 [==============================] - 2s 11ms/step - loss: 0.0049 - accuracy: 0.1760\n",
            "Epoch 91/100\n",
            "220/220 [==============================] - 2s 11ms/step - loss: 0.0048 - accuracy: 0.1760\n",
            "Epoch 92/100\n",
            "220/220 [==============================] - 2s 11ms/step - loss: 0.0048 - accuracy: 0.1760\n",
            "Epoch 93/100\n",
            "220/220 [==============================] - 2s 11ms/step - loss: 0.0047 - accuracy: 0.1760\n",
            "Epoch 94/100\n",
            "220/220 [==============================] - 2s 11ms/step - loss: 0.0048 - accuracy: 0.1760\n",
            "Epoch 95/100\n",
            "220/220 [==============================] - 2s 11ms/step - loss: 0.0048 - accuracy: 0.1760\n",
            "Epoch 96/100\n",
            "220/220 [==============================] - 2s 11ms/step - loss: 0.0048 - accuracy: 0.1760\n",
            "Epoch 97/100\n",
            "220/220 [==============================] - 2s 11ms/step - loss: 0.0047 - accuracy: 0.1760\n",
            "Epoch 98/100\n",
            "220/220 [==============================] - 2s 11ms/step - loss: 0.0048 - accuracy: 0.1760\n",
            "Epoch 99/100\n",
            "220/220 [==============================] - 2s 11ms/step - loss: 0.0047 - accuracy: 0.1760\n",
            "Epoch 100/100\n",
            "220/220 [==============================] - 2s 11ms/step - loss: 0.0047 - accuracy: 0.1760\n"
          ],
          "name": "stdout"
        },
        {
          "output_type": "execute_result",
          "data": {
            "text/plain": [
              "<tensorflow.python.keras.callbacks.History at 0x7fe14c92a1d0>"
            ]
          },
          "metadata": {
            "tags": []
          },
          "execution_count": 96
        }
      ]
    },
    {
      "cell_type": "code",
      "metadata": {
        "id": "y3xZKStyoH5I",
        "outputId": "67bd90de-d8f6-4621-8399-487df514ad4d",
        "colab": {
          "base_uri": "https://localhost:8080/"
        }
      },
      "source": [
        "regressor.evaluate(x_test,y_test)"
      ],
      "execution_count": 97,
      "outputs": [
        {
          "output_type": "stream",
          "text": [
            "74/74 [==============================] - 0s 3ms/step - loss: 0.0081 - accuracy: 0.1748\n"
          ],
          "name": "stdout"
        },
        {
          "output_type": "execute_result",
          "data": {
            "text/plain": [
              "[0.008109844289720058, 0.17478632926940918]"
            ]
          },
          "metadata": {
            "tags": []
          },
          "execution_count": 97
        }
      ]
    },
    {
      "cell_type": "code",
      "metadata": {
        "id": "lphlu7VioraW",
        "outputId": "eb2fed91-365d-4221-a508-b432da5a9a8f",
        "colab": {
          "base_uri": "https://localhost:8080/"
        }
      },
      "source": [
        "y_pred = regressor.predict(x_test)\n",
        "y_pred"
      ],
      "execution_count": 99,
      "outputs": [
        {
          "output_type": "execute_result",
          "data": {
            "text/plain": [
              "array([[0.3404587 ],\n",
              "       [0.3635194 ],\n",
              "       [0.4442576 ],\n",
              "       ...,\n",
              "       [0.3027532 ],\n",
              "       [0.31456056],\n",
              "       [0.40335327]], dtype=float32)"
            ]
          },
          "metadata": {
            "tags": []
          },
          "execution_count": 99
        }
      ]
    },
    {
      "cell_type": "code",
      "metadata": {
        "id": "rmDYwP-Rorhm"
      },
      "source": [
        "output = scaler.inverse_transform(y_pred)\n",
        "real_output = []\n",
        "for item in output:\n",
        "    real_output.append((item[0]))"
      ],
      "execution_count": 100,
      "outputs": []
    },
    {
      "cell_type": "code",
      "metadata": {
        "id": "K5eoybEXormj",
        "outputId": "8df23883-ab3c-41cf-a781-a4e7e8cfd4cf",
        "colab": {
          "base_uri": "https://localhost:8080/"
        }
      },
      "source": [
        "value['predicted'] = np.array(real_output)"
      ],
      "execution_count": 101,
      "outputs": [
        {
          "output_type": "stream",
          "text": [
            "/usr/local/lib/python3.6/dist-packages/ipykernel_launcher.py:1: SettingWithCopyWarning: \n",
            "A value is trying to be set on a copy of a slice from a DataFrame.\n",
            "Try using .loc[row_indexer,col_indexer] = value instead\n",
            "\n",
            "See the caveats in the documentation: https://pandas.pydata.org/pandas-docs/stable/user_guide/indexing.html#returning-a-view-versus-a-copy\n",
            "  \"\"\"Entry point for launching an IPython kernel.\n"
          ],
          "name": "stderr"
        }
      ]
    },
    {
      "cell_type": "code",
      "metadata": {
        "id": "42qZp0zJorfn"
      },
      "source": [
        "import matplotlib.pyplot as plt\n",
        "plt.rcParams[\"figure.figsize\"] = (100,100)\n",
        "%matplotlib inline"
      ],
      "execution_count": 102,
      "outputs": []
    },
    {
      "cell_type": "code",
      "metadata": {
        "id": "ryFhCSLborZF",
        "outputId": "bcf7a79f-3133-46c0-8bdb-741c090a2095",
        "colab": {
          "base_uri": "https://localhost:8080/",
          "height": 282
        }
      },
      "source": [
        "value.plot()"
      ],
      "execution_count": 103,
      "outputs": [
        {
          "output_type": "execute_result",
          "data": {
            "text/plain": [
              "<matplotlib.axes._subplots.AxesSubplot at 0x7fe14893de80>"
            ]
          },
          "metadata": {
            "tags": []
          },
          "execution_count": 103
        },
        {
          "output_type": "display_data",
          "data": {
            "image/png": "[encoded data removed]",
            "text/plain": [
              "<Figure size 432x288 with 1 Axes>"
            ]
          },
          "metadata": {
            "tags": [],
            "needs_background": "light"
          }
        }
      ]
    }
  ]
}